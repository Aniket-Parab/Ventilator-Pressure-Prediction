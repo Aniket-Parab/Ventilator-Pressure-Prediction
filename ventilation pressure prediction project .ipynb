{
 "cells": [
  {
   "cell_type": "markdown",
   "id": "5f7d746b",
   "metadata": {},
   "source": [
    "## In this competition, you’ll simulate a ventilator connected to a sedated patient's lung. \n",
    "## The best submissions will take lung attributes compliance and resistance into account."
   ]
  },
  {
   "cell_type": "markdown",
   "id": "e58b496e",
   "metadata": {},
   "source": [
    "## Importing required packages"
   ]
  },
  {
   "cell_type": "code",
   "execution_count": 1,
   "id": "8b0e7409",
   "metadata": {},
   "outputs": [],
   "source": [
    "import pandas as pd \n",
    "import numpy as np\n",
    "import matplotlib.pyplot as plt\n",
    "import seaborn as sns"
   ]
  },
  {
   "cell_type": "markdown",
   "id": "bf50f313",
   "metadata": {},
   "source": [
    "#### Importing Data"
   ]
  },
  {
   "cell_type": "code",
   "execution_count": 2,
   "id": "c146e26e",
   "metadata": {},
   "outputs": [
    {
     "data": {
      "text/html": [
       "<div>\n",
       "<style scoped>\n",
       "    .dataframe tbody tr th:only-of-type {\n",
       "        vertical-align: middle;\n",
       "    }\n",
       "\n",
       "    .dataframe tbody tr th {\n",
       "        vertical-align: top;\n",
       "    }\n",
       "\n",
       "    .dataframe thead th {\n",
       "        text-align: right;\n",
       "    }\n",
       "</style>\n",
       "<table border=\"1\" class=\"dataframe\">\n",
       "  <thead>\n",
       "    <tr style=\"text-align: right;\">\n",
       "      <th></th>\n",
       "      <th>id</th>\n",
       "      <th>breath_id</th>\n",
       "      <th>R</th>\n",
       "      <th>C</th>\n",
       "      <th>time_step</th>\n",
       "      <th>u_in</th>\n",
       "      <th>u_out</th>\n",
       "      <th>pressure</th>\n",
       "    </tr>\n",
       "  </thead>\n",
       "  <tbody>\n",
       "    <tr>\n",
       "      <th>0</th>\n",
       "      <td>1</td>\n",
       "      <td>1</td>\n",
       "      <td>20</td>\n",
       "      <td>50</td>\n",
       "      <td>0.000000</td>\n",
       "      <td>0.083334</td>\n",
       "      <td>0</td>\n",
       "      <td>5.837492</td>\n",
       "    </tr>\n",
       "    <tr>\n",
       "      <th>1</th>\n",
       "      <td>2</td>\n",
       "      <td>1</td>\n",
       "      <td>20</td>\n",
       "      <td>50</td>\n",
       "      <td>0.033652</td>\n",
       "      <td>18.383041</td>\n",
       "      <td>0</td>\n",
       "      <td>5.907794</td>\n",
       "    </tr>\n",
       "    <tr>\n",
       "      <th>2</th>\n",
       "      <td>3</td>\n",
       "      <td>1</td>\n",
       "      <td>20</td>\n",
       "      <td>50</td>\n",
       "      <td>0.067514</td>\n",
       "      <td>22.509278</td>\n",
       "      <td>0</td>\n",
       "      <td>7.876254</td>\n",
       "    </tr>\n",
       "    <tr>\n",
       "      <th>3</th>\n",
       "      <td>4</td>\n",
       "      <td>1</td>\n",
       "      <td>20</td>\n",
       "      <td>50</td>\n",
       "      <td>0.101542</td>\n",
       "      <td>22.808822</td>\n",
       "      <td>0</td>\n",
       "      <td>11.742872</td>\n",
       "    </tr>\n",
       "    <tr>\n",
       "      <th>4</th>\n",
       "      <td>5</td>\n",
       "      <td>1</td>\n",
       "      <td>20</td>\n",
       "      <td>50</td>\n",
       "      <td>0.135756</td>\n",
       "      <td>25.355850</td>\n",
       "      <td>0</td>\n",
       "      <td>12.234987</td>\n",
       "    </tr>\n",
       "  </tbody>\n",
       "</table>\n",
       "</div>"
      ],
      "text/plain": [
       "   id  breath_id   R   C  time_step       u_in  u_out   pressure\n",
       "0   1          1  20  50   0.000000   0.083334      0   5.837492\n",
       "1   2          1  20  50   0.033652  18.383041      0   5.907794\n",
       "2   3          1  20  50   0.067514  22.509278      0   7.876254\n",
       "3   4          1  20  50   0.101542  22.808822      0  11.742872\n",
       "4   5          1  20  50   0.135756  25.355850      0  12.234987"
      ]
     },
     "execution_count": 2,
     "metadata": {},
     "output_type": "execute_result"
    }
   ],
   "source": [
    "df = pd.read_csv(r\"E:\\Data Science\\Project\\Ventilation pressure prediction\\train.csv\")\n",
    "df.head()"
   ]
  },
  {
   "cell_type": "markdown",
   "id": "b79974d1",
   "metadata": {},
   "source": [
    "#### checking for nulls"
   ]
  },
  {
   "cell_type": "code",
   "execution_count": 3,
   "id": "647ce0f2",
   "metadata": {},
   "outputs": [
    {
     "data": {
      "text/plain": [
       "id           0\n",
       "breath_id    0\n",
       "R            0\n",
       "C            0\n",
       "time_step    0\n",
       "u_in         0\n",
       "u_out        0\n",
       "pressure     0\n",
       "dtype: int64"
      ]
     },
     "execution_count": 3,
     "metadata": {},
     "output_type": "execute_result"
    }
   ],
   "source": [
    "df.isnull().sum()"
   ]
  },
  {
   "cell_type": "code",
   "execution_count": 4,
   "id": "428c3270",
   "metadata": {},
   "outputs": [
    {
     "data": {
      "text/plain": [
       "Index([], dtype='object')"
      ]
     },
     "execution_count": 4,
     "metadata": {},
     "output_type": "execute_result"
    }
   ],
   "source": [
    "df.columns[df.dtypes=='object']"
   ]
  },
  {
   "cell_type": "code",
   "execution_count": 5,
   "id": "1eec7c55",
   "metadata": {},
   "outputs": [],
   "source": [
    "# making a copy for backup\n",
    "df1 = df  "
   ]
  },
  {
   "cell_type": "code",
   "execution_count": 6,
   "id": "8f4503e6",
   "metadata": {},
   "outputs": [],
   "source": [
    "## removing the 'id' column"
   ]
  },
  {
   "cell_type": "code",
   "execution_count": 7,
   "id": "1d9cbb7e",
   "metadata": {},
   "outputs": [],
   "source": [
    "df = df.iloc[:,2:]"
   ]
  },
  {
   "cell_type": "code",
   "execution_count": 8,
   "id": "4be44b11",
   "metadata": {},
   "outputs": [
    {
     "data": {
      "text/html": [
       "<div>\n",
       "<style scoped>\n",
       "    .dataframe tbody tr th:only-of-type {\n",
       "        vertical-align: middle;\n",
       "    }\n",
       "\n",
       "    .dataframe tbody tr th {\n",
       "        vertical-align: top;\n",
       "    }\n",
       "\n",
       "    .dataframe thead th {\n",
       "        text-align: right;\n",
       "    }\n",
       "</style>\n",
       "<table border=\"1\" class=\"dataframe\">\n",
       "  <thead>\n",
       "    <tr style=\"text-align: right;\">\n",
       "      <th></th>\n",
       "      <th>R</th>\n",
       "      <th>C</th>\n",
       "      <th>time_step</th>\n",
       "      <th>u_in</th>\n",
       "      <th>u_out</th>\n",
       "      <th>pressure</th>\n",
       "    </tr>\n",
       "  </thead>\n",
       "  <tbody>\n",
       "    <tr>\n",
       "      <th>0</th>\n",
       "      <td>20</td>\n",
       "      <td>50</td>\n",
       "      <td>0.000000</td>\n",
       "      <td>0.083334</td>\n",
       "      <td>0</td>\n",
       "      <td>5.837492</td>\n",
       "    </tr>\n",
       "    <tr>\n",
       "      <th>1</th>\n",
       "      <td>20</td>\n",
       "      <td>50</td>\n",
       "      <td>0.033652</td>\n",
       "      <td>18.383041</td>\n",
       "      <td>0</td>\n",
       "      <td>5.907794</td>\n",
       "    </tr>\n",
       "    <tr>\n",
       "      <th>2</th>\n",
       "      <td>20</td>\n",
       "      <td>50</td>\n",
       "      <td>0.067514</td>\n",
       "      <td>22.509278</td>\n",
       "      <td>0</td>\n",
       "      <td>7.876254</td>\n",
       "    </tr>\n",
       "    <tr>\n",
       "      <th>3</th>\n",
       "      <td>20</td>\n",
       "      <td>50</td>\n",
       "      <td>0.101542</td>\n",
       "      <td>22.808822</td>\n",
       "      <td>0</td>\n",
       "      <td>11.742872</td>\n",
       "    </tr>\n",
       "    <tr>\n",
       "      <th>4</th>\n",
       "      <td>20</td>\n",
       "      <td>50</td>\n",
       "      <td>0.135756</td>\n",
       "      <td>25.355850</td>\n",
       "      <td>0</td>\n",
       "      <td>12.234987</td>\n",
       "    </tr>\n",
       "  </tbody>\n",
       "</table>\n",
       "</div>"
      ],
      "text/plain": [
       "    R   C  time_step       u_in  u_out   pressure\n",
       "0  20  50   0.000000   0.083334      0   5.837492\n",
       "1  20  50   0.033652  18.383041      0   5.907794\n",
       "2  20  50   0.067514  22.509278      0   7.876254\n",
       "3  20  50   0.101542  22.808822      0  11.742872\n",
       "4  20  50   0.135756  25.355850      0  12.234987"
      ]
     },
     "execution_count": 8,
     "metadata": {},
     "output_type": "execute_result"
    }
   ],
   "source": [
    "df.head()"
   ]
  },
  {
   "cell_type": "code",
   "execution_count": null,
   "id": "aebe0b8e",
   "metadata": {},
   "outputs": [],
   "source": []
  },
  {
   "cell_type": "markdown",
   "id": "1caad451",
   "metadata": {},
   "source": [
    "#### correlation"
   ]
  },
  {
   "cell_type": "code",
   "execution_count": 9,
   "id": "5b4b8b88",
   "metadata": {},
   "outputs": [
    {
     "data": {
      "text/html": [
       "<div>\n",
       "<style scoped>\n",
       "    .dataframe tbody tr th:only-of-type {\n",
       "        vertical-align: middle;\n",
       "    }\n",
       "\n",
       "    .dataframe tbody tr th {\n",
       "        vertical-align: top;\n",
       "    }\n",
       "\n",
       "    .dataframe thead th {\n",
       "        text-align: right;\n",
       "    }\n",
       "</style>\n",
       "<table border=\"1\" class=\"dataframe\">\n",
       "  <thead>\n",
       "    <tr style=\"text-align: right;\">\n",
       "      <th></th>\n",
       "      <th>R</th>\n",
       "      <th>C</th>\n",
       "      <th>time_step</th>\n",
       "      <th>u_in</th>\n",
       "      <th>u_out</th>\n",
       "      <th>pressure</th>\n",
       "    </tr>\n",
       "  </thead>\n",
       "  <tbody>\n",
       "    <tr>\n",
       "      <th>R</th>\n",
       "      <td>1.000000</td>\n",
       "      <td>-0.096070</td>\n",
       "      <td>-0.014535</td>\n",
       "      <td>-0.148120</td>\n",
       "      <td>-0.007594</td>\n",
       "      <td>0.015976</td>\n",
       "    </tr>\n",
       "    <tr>\n",
       "      <th>C</th>\n",
       "      <td>-0.096070</td>\n",
       "      <td>1.000000</td>\n",
       "      <td>0.004936</td>\n",
       "      <td>0.151002</td>\n",
       "      <td>0.003720</td>\n",
       "      <td>-0.036727</td>\n",
       "    </tr>\n",
       "    <tr>\n",
       "      <th>time_step</th>\n",
       "      <td>-0.014535</td>\n",
       "      <td>0.004936</td>\n",
       "      <td>1.000000</td>\n",
       "      <td>-0.352276</td>\n",
       "      <td>0.839191</td>\n",
       "      <td>-0.524829</td>\n",
       "    </tr>\n",
       "    <tr>\n",
       "      <th>u_in</th>\n",
       "      <td>-0.148120</td>\n",
       "      <td>0.151002</td>\n",
       "      <td>-0.352276</td>\n",
       "      <td>1.000000</td>\n",
       "      <td>-0.416985</td>\n",
       "      <td>0.308136</td>\n",
       "    </tr>\n",
       "    <tr>\n",
       "      <th>u_out</th>\n",
       "      <td>-0.007594</td>\n",
       "      <td>0.003720</td>\n",
       "      <td>0.839191</td>\n",
       "      <td>-0.416985</td>\n",
       "      <td>1.000000</td>\n",
       "      <td>-0.614910</td>\n",
       "    </tr>\n",
       "    <tr>\n",
       "      <th>pressure</th>\n",
       "      <td>0.015976</td>\n",
       "      <td>-0.036727</td>\n",
       "      <td>-0.524829</td>\n",
       "      <td>0.308136</td>\n",
       "      <td>-0.614910</td>\n",
       "      <td>1.000000</td>\n",
       "    </tr>\n",
       "  </tbody>\n",
       "</table>\n",
       "</div>"
      ],
      "text/plain": [
       "                  R         C  time_step      u_in     u_out  pressure\n",
       "R          1.000000 -0.096070  -0.014535 -0.148120 -0.007594  0.015976\n",
       "C         -0.096070  1.000000   0.004936  0.151002  0.003720 -0.036727\n",
       "time_step -0.014535  0.004936   1.000000 -0.352276  0.839191 -0.524829\n",
       "u_in      -0.148120  0.151002  -0.352276  1.000000 -0.416985  0.308136\n",
       "u_out     -0.007594  0.003720   0.839191 -0.416985  1.000000 -0.614910\n",
       "pressure   0.015976 -0.036727  -0.524829  0.308136 -0.614910  1.000000"
      ]
     },
     "execution_count": 9,
     "metadata": {},
     "output_type": "execute_result"
    }
   ],
   "source": [
    "df.corr()"
   ]
  },
  {
   "cell_type": "code",
   "execution_count": null,
   "id": "595ad331",
   "metadata": {},
   "outputs": [],
   "source": []
  },
  {
   "cell_type": "code",
   "execution_count": null,
   "id": "6b0ffab2",
   "metadata": {},
   "outputs": [],
   "source": []
  },
  {
   "cell_type": "code",
   "execution_count": 10,
   "id": "76111e6b",
   "metadata": {},
   "outputs": [
    {
     "data": {
      "text/plain": [
       "(array([1.504040e+05, 4.133107e+06, 6.762010e+05, 4.967310e+05,\n",
       "        3.656900e+05, 1.638900e+05, 3.459900e+04, 1.002400e+04,\n",
       "        3.101000e+03, 2.253000e+03]),\n",
       " array([-1.89574429,  4.77592931, 11.44760291, 18.11927652, 24.79095012,\n",
       "        31.46262372, 38.13429733, 44.80597093, 51.47764453, 58.14931814,\n",
       "        64.82099174]),\n",
       " <BarContainer object of 10 artists>)"
      ]
     },
     "execution_count": 10,
     "metadata": {},
     "output_type": "execute_result"
    },
    {
     "data": {
      "image/png": "[encoded data removed]",
      "text/plain": [
       "<Figure size 432x288 with 1 Axes>"
      ]
     },
     "metadata": {
      "needs_background": "light"
     },
     "output_type": "display_data"
    }
   ],
   "source": [
    "plt.hist(df.pressure)"
   ]
  },
  {
   "cell_type": "markdown",
   "id": "590c61a5",
   "metadata": {},
   "source": [
    "### Finding outliers through boxplot"
   ]
  },
  {
   "cell_type": "code",
   "execution_count": 11,
   "id": "7879b032",
   "metadata": {},
   "outputs": [
    {
     "name": "stderr",
     "output_type": "stream",
     "text": [
      "C:\\Users\\Aniket\\anaconda3\\lib\\site-packages\\seaborn\\_decorators.py:36: FutureWarning: Pass the following variable as a keyword arg: x. From version 0.12, the only valid positional argument will be `data`, and passing other arguments without an explicit keyword will result in an error or misinterpretation.\n",
      "  warnings.warn(\n"
     ]
    },
    {
     "data": {
      "text/plain": [
       "<AxesSubplot:xlabel='pressure'>"
      ]
     },
     "execution_count": 11,
     "metadata": {},
     "output_type": "execute_result"
    },
    {
     "data": {
      "image/png": "[encoded data removed]",
      "text/plain": [
       "<Figure size 432x288 with 1 Axes>"
      ]
     },
     "metadata": {
      "needs_background": "light"
     },
     "output_type": "display_data"
    }
   ],
   "source": [
    "sns.boxplot(df.pressure)"
   ]
  },
  {
   "cell_type": "code",
   "execution_count": 12,
   "id": "ff67a300",
   "metadata": {},
   "outputs": [
    {
     "data": {
      "text/plain": [
       "50    2410080\n",
       "5     1988800\n",
       "20    1637120\n",
       "Name: R, dtype: int64"
      ]
     },
     "execution_count": 12,
     "metadata": {},
     "output_type": "execute_result"
    }
   ],
   "source": [
    "df.R.value_counts()"
   ]
  },
  {
   "cell_type": "code",
   "execution_count": 14,
   "id": "d7f4af79",
   "metadata": {},
   "outputs": [
    {
     "name": "stdout",
     "output_type": "stream",
     "text": [
      "Total Outliers=  561630\n"
     ]
    }
   ],
   "source": [
    "outlier=0\n",
    "l=[]\n",
    "for i in range (0, 6036000):\n",
    "    if df.pressure[i]<=25:\n",
    "        l.append(i)\n",
    "\n",
    "    if df.pressure[i]>25:\n",
    "        outlier = outlier+1\n",
    "print(\"Total Outliers= \",outlier)"
   ]
  },
  {
   "cell_type": "code",
   "execution_count": 16,
   "id": "dc95958b",
   "metadata": {},
   "outputs": [
    {
     "data": {
      "text/plain": [
       "5474370"
      ]
     },
     "execution_count": 16,
     "metadata": {},
     "output_type": "execute_result"
    }
   ],
   "source": [
    "np.size(l)"
   ]
  },
  {
   "cell_type": "code",
   "execution_count": 17,
   "id": "c3cc42cc",
   "metadata": {},
   "outputs": [],
   "source": [
    "df = df.iloc[l, :]"
   ]
  },
  {
   "cell_type": "code",
   "execution_count": 18,
   "id": "0aefad83",
   "metadata": {},
   "outputs": [
    {
     "data": {
      "text/plain": [
       "(5474370, 6)"
      ]
     },
     "execution_count": 18,
     "metadata": {},
     "output_type": "execute_result"
    }
   ],
   "source": [
    "df.shape"
   ]
  },
  {
   "cell_type": "code",
   "execution_count": null,
   "id": "65faa7de",
   "metadata": {},
   "outputs": [],
   "source": []
  },
  {
   "cell_type": "markdown",
   "id": "5123ba7c",
   "metadata": {},
   "source": [
    "### sampling"
   ]
  },
  {
   "cell_type": "code",
   "execution_count": 19,
   "id": "14b31f51",
   "metadata": {},
   "outputs": [],
   "source": [
    "from sklearn.model_selection import train_test_split\n",
    "\n",
    "train, test = train_test_split(df, test_size=0.2)"
   ]
  },
  {
   "cell_type": "code",
   "execution_count": 20,
   "id": "4c5e65f5",
   "metadata": {},
   "outputs": [],
   "source": [
    "train_x= train.iloc[:, 0:-1]\n",
    "train_y= train.iloc[:, -1]\n",
    "\n",
    "test_x= test.iloc[:, 0:-1]\n",
    "test_y= test.iloc[:, -1]"
   ]
  },
  {
   "cell_type": "code",
   "execution_count": null,
   "id": "582e8106",
   "metadata": {},
   "outputs": [],
   "source": []
  },
  {
   "cell_type": "markdown",
   "id": "af2e0154",
   "metadata": {},
   "source": [
    "### Linear Regression"
   ]
  },
  {
   "cell_type": "code",
   "execution_count": 21,
   "id": "f82746e4",
   "metadata": {},
   "outputs": [],
   "source": [
    "from sklearn.linear_model import LinearRegression\n",
    "lr = LinearRegression()"
   ]
  },
  {
   "cell_type": "code",
   "execution_count": 22,
   "id": "b5020aa1",
   "metadata": {},
   "outputs": [
    {
     "data": {
      "text/html": [
       "<style>#sk-container-id-1 {color: black;background-color: white;}#sk-container-id-1 pre{padding: 0;}#sk-container-id-1 div.sk-toggleable {background-color: white;}#sk-container-id-1 label.sk-toggleable__label {cursor: pointer;display: block;width: 100%;margin-bottom: 0;padding: 0.3em;box-sizing: border-box;text-align: center;}#sk-container-id-1 label.sk-toggleable__label-arrow:before {content: \"▸\";float: left;margin-right: 0.25em;color: #696969;}#sk-container-id-1 label.sk-toggleable__label-arrow:hover:before {color: black;}#sk-container-id-1 div.sk-estimator:hover label.sk-toggleable__label-arrow:before {color: black;}#sk-container-id-1 div.sk-toggleable__content {max-height: 0;max-width: 0;overflow: hidden;text-align: left;background-color: #f0f8ff;}#sk-container-id-1 div.sk-toggleable__content pre {margin: 0.2em;color: black;border-radius: 0.25em;background-color: #f0f8ff;}#sk-container-id-1 input.sk-toggleable__control:checked~div.sk-toggleable__content {max-height: 200px;max-width: 100%;overflow: auto;}#sk-container-id-1 input.sk-toggleable__control:checked~label.sk-toggleable__label-arrow:before {content: \"▾\";}#sk-container-id-1 div.sk-estimator input.sk-toggleable__control:checked~label.sk-toggleable__label {background-color: #d4ebff;}#sk-container-id-1 div.sk-label input.sk-toggleable__control:checked~label.sk-toggleable__label {background-color: #d4ebff;}#sk-container-id-1 input.sk-hidden--visually {border: 0;clip: rect(1px 1px 1px 1px);clip: rect(1px, 1px, 1px, 1px);height: 1px;margin: -1px;overflow: hidden;padding: 0;position: absolute;width: 1px;}#sk-container-id-1 div.sk-estimator {font-family: monospace;background-color: #f0f8ff;border: 1px dotted black;border-radius: 0.25em;box-sizing: border-box;margin-bottom: 0.5em;}#sk-container-id-1 div.sk-estimator:hover {background-color: #d4ebff;}#sk-container-id-1 div.sk-parallel-item::after {content: \"\";width: 100%;border-bottom: 1px solid gray;flex-grow: 1;}#sk-container-id-1 div.sk-label:hover label.sk-toggleable__label {background-color: #d4ebff;}#sk-container-id-1 div.sk-serial::before {content: \"\";position: absolute;border-left: 1px solid gray;box-sizing: border-box;top: 0;bottom: 0;left: 50%;z-index: 0;}#sk-container-id-1 div.sk-serial {display: flex;flex-direction: column;align-items: center;background-color: white;padding-right: 0.2em;padding-left: 0.2em;position: relative;}#sk-container-id-1 div.sk-item {position: relative;z-index: 1;}#sk-container-id-1 div.sk-parallel {display: flex;align-items: stretch;justify-content: center;background-color: white;position: relative;}#sk-container-id-1 div.sk-item::before, #sk-container-id-1 div.sk-parallel-item::before {content: \"\";position: absolute;border-left: 1px solid gray;box-sizing: border-box;top: 0;bottom: 0;left: 50%;z-index: -1;}#sk-container-id-1 div.sk-parallel-item {display: flex;flex-direction: column;z-index: 1;position: relative;background-color: white;}#sk-container-id-1 div.sk-parallel-item:first-child::after {align-self: flex-end;width: 50%;}#sk-container-id-1 div.sk-parallel-item:last-child::after {align-self: flex-start;width: 50%;}#sk-container-id-1 div.sk-parallel-item:only-child::after {width: 0;}#sk-container-id-1 div.sk-dashed-wrapped {border: 1px dashed gray;margin: 0 0.4em 0.5em 0.4em;box-sizing: border-box;padding-bottom: 0.4em;background-color: white;}#sk-container-id-1 div.sk-label label {font-family: monospace;font-weight: bold;display: inline-block;line-height: 1.2em;}#sk-container-id-1 div.sk-label-container {text-align: center;}#sk-container-id-1 div.sk-container {/* jupyter's `normalize.less` sets `[hidden] { display: none; }` but bootstrap.min.css set `[hidden] { display: none !important; }` so we also need the `!important` here to be able to override the default hidden behavior on the sphinx rendered scikit-learn.org. See: https://github.com/scikit-learn/scikit-learn/issues/21755 */display: inline-block !important;position: relative;}#sk-container-id-1 div.sk-text-repr-fallback {display: none;}</style><div id=\"sk-container-id-1\" class=\"sk-top-container\"><div class=\"sk-text-repr-fallback\"><pre>LinearRegression()</pre><b>In a Jupyter environment, please rerun this cell to show the HTML representation or trust the notebook. <br />On GitHub, the HTML representation is unable to render, please try loading this page with nbviewer.org.</b></div><div class=\"sk-container\" hidden><div class=\"sk-item\"><div class=\"sk-estimator sk-toggleable\"><input class=\"sk-toggleable__control sk-hidden--visually\" id=\"sk-estimator-id-1\" type=\"checkbox\" checked><label for=\"sk-estimator-id-1\" class=\"sk-toggleable__label sk-toggleable__label-arrow\">LinearRegression</label><div class=\"sk-toggleable__content\"><pre>LinearRegression()</pre></div></div></div></div></div>"
      ],
      "text/plain": [
       "LinearRegression()"
      ]
     },
     "execution_count": 22,
     "metadata": {},
     "output_type": "execute_result"
    }
   ],
   "source": [
    "lr.fit(train_x, train_y)"
   ]
  },
  {
   "cell_type": "code",
   "execution_count": 23,
   "id": "d455468a",
   "metadata": {},
   "outputs": [
    {
     "data": {
      "text/plain": [
       "0.42683892330636064"
      ]
     },
     "execution_count": 23,
     "metadata": {},
     "output_type": "execute_result"
    }
   ],
   "source": [
    "## Rsquare\n",
    "lr.score(train_x, train_y)"
   ]
  },
  {
   "cell_type": "code",
   "execution_count": 24,
   "id": "3dc04825",
   "metadata": {},
   "outputs": [
    {
     "name": "stdout",
     "output_type": "stream",
     "text": [
      "Ajusted Rsquare =  0.4268382689367004\n"
     ]
    }
   ],
   "source": [
    "##Adjusted Rsquare value\n",
    "Rsqu=lr.score(train_x,train_y)\n",
    "N=train_x.shape[0]\n",
    "K=train_x.shape[1]\n",
    "\n",
    "AdjRsqu = 1-(1-Rsqu)*(N-1)/(N-K-1)\n",
    "print(\"Ajusted Rsquare = \",AdjRsqu)"
   ]
  },
  {
   "cell_type": "code",
   "execution_count": 25,
   "id": "653ea79a",
   "metadata": {},
   "outputs": [],
   "source": [
    "pred_lr = lr.predict(test_x)"
   ]
  },
  {
   "cell_type": "code",
   "execution_count": 26,
   "id": "675605dd",
   "metadata": {},
   "outputs": [],
   "source": [
    "from sklearn.metrics import mean_absolute_error,  mean_absolute_percentage_error"
   ]
  },
  {
   "cell_type": "code",
   "execution_count": 27,
   "id": "63017cf2",
   "metadata": {},
   "outputs": [
    {
     "data": {
      "text/plain": [
       "2.347650045183655"
      ]
     },
     "execution_count": 27,
     "metadata": {},
     "output_type": "execute_result"
    }
   ],
   "source": [
    "mean_absolute_error(test_y, pred_lr)"
   ]
  },
  {
   "cell_type": "code",
   "execution_count": 28,
   "id": "de4d494e",
   "metadata": {},
   "outputs": [
    {
     "data": {
      "text/plain": [
       "0.3948435282576692"
      ]
     },
     "execution_count": 28,
     "metadata": {},
     "output_type": "execute_result"
    }
   ],
   "source": [
    "mape_lr = mean_absolute_percentage_error(test_y, pred_lr)\n",
    "mape_lr"
   ]
  },
  {
   "cell_type": "code",
   "execution_count": null,
   "id": "6cace542",
   "metadata": {},
   "outputs": [],
   "source": []
  },
  {
   "cell_type": "markdown",
   "id": "32ac705b",
   "metadata": {},
   "source": [
    "#### Decision tree regressor"
   ]
  },
  {
   "cell_type": "code",
   "execution_count": 29,
   "id": "b6692575",
   "metadata": {},
   "outputs": [],
   "source": [
    "from sklearn.tree import DecisionTreeRegressor\n",
    "dt = DecisionTreeRegressor()"
   ]
  },
  {
   "cell_type": "code",
   "execution_count": 30,
   "id": "94aede26",
   "metadata": {},
   "outputs": [
    {
     "data": {
      "text/html": [
       "<style>#sk-container-id-2 {color: black;background-color: white;}#sk-container-id-2 pre{padding: 0;}#sk-container-id-2 div.sk-toggleable {background-color: white;}#sk-container-id-2 label.sk-toggleable__label {cursor: pointer;display: block;width: 100%;margin-bottom: 0;padding: 0.3em;box-sizing: border-box;text-align: center;}#sk-container-id-2 label.sk-toggleable__label-arrow:before {content: \"▸\";float: left;margin-right: 0.25em;color: #696969;}#sk-container-id-2 label.sk-toggleable__label-arrow:hover:before {color: black;}#sk-container-id-2 div.sk-estimator:hover label.sk-toggleable__label-arrow:before {color: black;}#sk-container-id-2 div.sk-toggleable__content {max-height: 0;max-width: 0;overflow: hidden;text-align: left;background-color: #f0f8ff;}#sk-container-id-2 div.sk-toggleable__content pre {margin: 0.2em;color: black;border-radius: 0.25em;background-color: #f0f8ff;}#sk-container-id-2 input.sk-toggleable__control:checked~div.sk-toggleable__content {max-height: 200px;max-width: 100%;overflow: auto;}#sk-container-id-2 input.sk-toggleable__control:checked~label.sk-toggleable__label-arrow:before {content: \"▾\";}#sk-container-id-2 div.sk-estimator input.sk-toggleable__control:checked~label.sk-toggleable__label {background-color: #d4ebff;}#sk-container-id-2 div.sk-label input.sk-toggleable__control:checked~label.sk-toggleable__label {background-color: #d4ebff;}#sk-container-id-2 input.sk-hidden--visually {border: 0;clip: rect(1px 1px 1px 1px);clip: rect(1px, 1px, 1px, 1px);height: 1px;margin: -1px;overflow: hidden;padding: 0;position: absolute;width: 1px;}#sk-container-id-2 div.sk-estimator {font-family: monospace;background-color: #f0f8ff;border: 1px dotted black;border-radius: 0.25em;box-sizing: border-box;margin-bottom: 0.5em;}#sk-container-id-2 div.sk-estimator:hover {background-color: #d4ebff;}#sk-container-id-2 div.sk-parallel-item::after {content: \"\";width: 100%;border-bottom: 1px solid gray;flex-grow: 1;}#sk-container-id-2 div.sk-label:hover label.sk-toggleable__label {background-color: #d4ebff;}#sk-container-id-2 div.sk-serial::before {content: \"\";position: absolute;border-left: 1px solid gray;box-sizing: border-box;top: 0;bottom: 0;left: 50%;z-index: 0;}#sk-container-id-2 div.sk-serial {display: flex;flex-direction: column;align-items: center;background-color: white;padding-right: 0.2em;padding-left: 0.2em;position: relative;}#sk-container-id-2 div.sk-item {position: relative;z-index: 1;}#sk-container-id-2 div.sk-parallel {display: flex;align-items: stretch;justify-content: center;background-color: white;position: relative;}#sk-container-id-2 div.sk-item::before, #sk-container-id-2 div.sk-parallel-item::before {content: \"\";position: absolute;border-left: 1px solid gray;box-sizing: border-box;top: 0;bottom: 0;left: 50%;z-index: -1;}#sk-container-id-2 div.sk-parallel-item {display: flex;flex-direction: column;z-index: 1;position: relative;background-color: white;}#sk-container-id-2 div.sk-parallel-item:first-child::after {align-self: flex-end;width: 50%;}#sk-container-id-2 div.sk-parallel-item:last-child::after {align-self: flex-start;width: 50%;}#sk-container-id-2 div.sk-parallel-item:only-child::after {width: 0;}#sk-container-id-2 div.sk-dashed-wrapped {border: 1px dashed gray;margin: 0 0.4em 0.5em 0.4em;box-sizing: border-box;padding-bottom: 0.4em;background-color: white;}#sk-container-id-2 div.sk-label label {font-family: monospace;font-weight: bold;display: inline-block;line-height: 1.2em;}#sk-container-id-2 div.sk-label-container {text-align: center;}#sk-container-id-2 div.sk-container {/* jupyter's `normalize.less` sets `[hidden] { display: none; }` but bootstrap.min.css set `[hidden] { display: none !important; }` so we also need the `!important` here to be able to override the default hidden behavior on the sphinx rendered scikit-learn.org. See: https://github.com/scikit-learn/scikit-learn/issues/21755 */display: inline-block !important;position: relative;}#sk-container-id-2 div.sk-text-repr-fallback {display: none;}</style><div id=\"sk-container-id-2\" class=\"sk-top-container\"><div class=\"sk-text-repr-fallback\"><pre>DecisionTreeRegressor()</pre><b>In a Jupyter environment, please rerun this cell to show the HTML representation or trust the notebook. <br />On GitHub, the HTML representation is unable to render, please try loading this page with nbviewer.org.</b></div><div class=\"sk-container\" hidden><div class=\"sk-item\"><div class=\"sk-estimator sk-toggleable\"><input class=\"sk-toggleable__control sk-hidden--visually\" id=\"sk-estimator-id-2\" type=\"checkbox\" checked><label for=\"sk-estimator-id-2\" class=\"sk-toggleable__label sk-toggleable__label-arrow\">DecisionTreeRegressor</label><div class=\"sk-toggleable__content\"><pre>DecisionTreeRegressor()</pre></div></div></div></div></div>"
      ],
      "text/plain": [
       "DecisionTreeRegressor()"
      ]
     },
     "execution_count": 30,
     "metadata": {},
     "output_type": "execute_result"
    }
   ],
   "source": [
    "dt.fit(train_x, train_y)"
   ]
  },
  {
   "cell_type": "code",
   "execution_count": 31,
   "id": "67091d04",
   "metadata": {},
   "outputs": [
    {
     "data": {
      "text/plain": [
       "0.9959019842279383"
      ]
     },
     "execution_count": 31,
     "metadata": {},
     "output_type": "execute_result"
    }
   ],
   "source": [
    "dt.score(train_x, train_y)"
   ]
  },
  {
   "cell_type": "code",
   "execution_count": 32,
   "id": "f64adcea",
   "metadata": {},
   "outputs": [],
   "source": [
    "pred_dt = dt.predict(test_x)"
   ]
  },
  {
   "cell_type": "code",
   "execution_count": 33,
   "id": "c2512e36",
   "metadata": {},
   "outputs": [
    {
     "data": {
      "text/plain": [
       "1.4512634595725276"
      ]
     },
     "execution_count": 33,
     "metadata": {},
     "output_type": "execute_result"
    }
   ],
   "source": [
    "mean_absolute_error(test_y, pred_dt)"
   ]
  },
  {
   "cell_type": "code",
   "execution_count": 34,
   "id": "4befe41a",
   "metadata": {},
   "outputs": [
    {
     "data": {
      "text/plain": [
       "0.2539242159398286"
      ]
     },
     "execution_count": 34,
     "metadata": {},
     "output_type": "execute_result"
    }
   ],
   "source": [
    "mape_dt = mean_absolute_percentage_error(test_y, pred_dt)\n",
    "mape_dt"
   ]
  },
  {
   "cell_type": "code",
   "execution_count": null,
   "id": "2cd32630",
   "metadata": {},
   "outputs": [],
   "source": []
  },
  {
   "cell_type": "markdown",
   "id": "6bf777e2",
   "metadata": {},
   "source": [
    "#### Hyper tuning"
   ]
  },
  {
   "cell_type": "code",
   "execution_count": 35,
   "id": "b518d789",
   "metadata": {},
   "outputs": [],
   "source": [
    "from sklearn.model_selection import GridSearchCV\n",
    "search_dict = { 'max_depth' : [4,5,6,7,8,9,10],\n",
    "             'min_samples_split' : [300,400,500]   }\n"
   ]
  },
  {
   "cell_type": "code",
   "execution_count": 36,
   "id": "e9516d0c",
   "metadata": {},
   "outputs": [],
   "source": [
    "grid = GridSearchCV(dt, param_grid= search_dict)"
   ]
  },
  {
   "cell_type": "code",
   "execution_count": 37,
   "id": "3adfa913",
   "metadata": {},
   "outputs": [
    {
     "data": {
      "text/html": [
       "<style>#sk-container-id-3 {color: black;background-color: white;}#sk-container-id-3 pre{padding: 0;}#sk-container-id-3 div.sk-toggleable {background-color: white;}#sk-container-id-3 label.sk-toggleable__label {cursor: pointer;display: block;width: 100%;margin-bottom: 0;padding: 0.3em;box-sizing: border-box;text-align: center;}#sk-container-id-3 label.sk-toggleable__label-arrow:before {content: \"▸\";float: left;margin-right: 0.25em;color: #696969;}#sk-container-id-3 label.sk-toggleable__label-arrow:hover:before {color: black;}#sk-container-id-3 div.sk-estimator:hover label.sk-toggleable__label-arrow:before {color: black;}#sk-container-id-3 div.sk-toggleable__content {max-height: 0;max-width: 0;overflow: hidden;text-align: left;background-color: #f0f8ff;}#sk-container-id-3 div.sk-toggleable__content pre {margin: 0.2em;color: black;border-radius: 0.25em;background-color: #f0f8ff;}#sk-container-id-3 input.sk-toggleable__control:checked~div.sk-toggleable__content {max-height: 200px;max-width: 100%;overflow: auto;}#sk-container-id-3 input.sk-toggleable__control:checked~label.sk-toggleable__label-arrow:before {content: \"▾\";}#sk-container-id-3 div.sk-estimator input.sk-toggleable__control:checked~label.sk-toggleable__label {background-color: #d4ebff;}#sk-container-id-3 div.sk-label input.sk-toggleable__control:checked~label.sk-toggleable__label {background-color: #d4ebff;}#sk-container-id-3 input.sk-hidden--visually {border: 0;clip: rect(1px 1px 1px 1px);clip: rect(1px, 1px, 1px, 1px);height: 1px;margin: -1px;overflow: hidden;padding: 0;position: absolute;width: 1px;}#sk-container-id-3 div.sk-estimator {font-family: monospace;background-color: #f0f8ff;border: 1px dotted black;border-radius: 0.25em;box-sizing: border-box;margin-bottom: 0.5em;}#sk-container-id-3 div.sk-estimator:hover {background-color: #d4ebff;}#sk-container-id-3 div.sk-parallel-item::after {content: \"\";width: 100%;border-bottom: 1px solid gray;flex-grow: 1;}#sk-container-id-3 div.sk-label:hover label.sk-toggleable__label {background-color: #d4ebff;}#sk-container-id-3 div.sk-serial::before {content: \"\";position: absolute;border-left: 1px solid gray;box-sizing: border-box;top: 0;bottom: 0;left: 50%;z-index: 0;}#sk-container-id-3 div.sk-serial {display: flex;flex-direction: column;align-items: center;background-color: white;padding-right: 0.2em;padding-left: 0.2em;position: relative;}#sk-container-id-3 div.sk-item {position: relative;z-index: 1;}#sk-container-id-3 div.sk-parallel {display: flex;align-items: stretch;justify-content: center;background-color: white;position: relative;}#sk-container-id-3 div.sk-item::before, #sk-container-id-3 div.sk-parallel-item::before {content: \"\";position: absolute;border-left: 1px solid gray;box-sizing: border-box;top: 0;bottom: 0;left: 50%;z-index: -1;}#sk-container-id-3 div.sk-parallel-item {display: flex;flex-direction: column;z-index: 1;position: relative;background-color: white;}#sk-container-id-3 div.sk-parallel-item:first-child::after {align-self: flex-end;width: 50%;}#sk-container-id-3 div.sk-parallel-item:last-child::after {align-self: flex-start;width: 50%;}#sk-container-id-3 div.sk-parallel-item:only-child::after {width: 0;}#sk-container-id-3 div.sk-dashed-wrapped {border: 1px dashed gray;margin: 0 0.4em 0.5em 0.4em;box-sizing: border-box;padding-bottom: 0.4em;background-color: white;}#sk-container-id-3 div.sk-label label {font-family: monospace;font-weight: bold;display: inline-block;line-height: 1.2em;}#sk-container-id-3 div.sk-label-container {text-align: center;}#sk-container-id-3 div.sk-container {/* jupyter's `normalize.less` sets `[hidden] { display: none; }` but bootstrap.min.css set `[hidden] { display: none !important; }` so we also need the `!important` here to be able to override the default hidden behavior on the sphinx rendered scikit-learn.org. See: https://github.com/scikit-learn/scikit-learn/issues/21755 */display: inline-block !important;position: relative;}#sk-container-id-3 div.sk-text-repr-fallback {display: none;}</style><div id=\"sk-container-id-3\" class=\"sk-top-container\"><div class=\"sk-text-repr-fallback\"><pre>GridSearchCV(estimator=DecisionTreeRegressor(),\n",
       "             param_grid={&#x27;max_depth&#x27;: [4, 5, 6, 7, 8, 9, 10],\n",
       "                         &#x27;min_samples_split&#x27;: [300, 400, 500]})</pre><b>In a Jupyter environment, please rerun this cell to show the HTML representation or trust the notebook. <br />On GitHub, the HTML representation is unable to render, please try loading this page with nbviewer.org.</b></div><div class=\"sk-container\" hidden><div class=\"sk-item sk-dashed-wrapped\"><div class=\"sk-label-container\"><div class=\"sk-label sk-toggleable\"><input class=\"sk-toggleable__control sk-hidden--visually\" id=\"sk-estimator-id-3\" type=\"checkbox\" ><label for=\"sk-estimator-id-3\" class=\"sk-toggleable__label sk-toggleable__label-arrow\">GridSearchCV</label><div class=\"sk-toggleable__content\"><pre>GridSearchCV(estimator=DecisionTreeRegressor(),\n",
       "             param_grid={&#x27;max_depth&#x27;: [4, 5, 6, 7, 8, 9, 10],\n",
       "                         &#x27;min_samples_split&#x27;: [300, 400, 500]})</pre></div></div></div><div class=\"sk-parallel\"><div class=\"sk-parallel-item\"><div class=\"sk-item\"><div class=\"sk-label-container\"><div class=\"sk-label sk-toggleable\"><input class=\"sk-toggleable__control sk-hidden--visually\" id=\"sk-estimator-id-4\" type=\"checkbox\" ><label for=\"sk-estimator-id-4\" class=\"sk-toggleable__label sk-toggleable__label-arrow\">estimator: DecisionTreeRegressor</label><div class=\"sk-toggleable__content\"><pre>DecisionTreeRegressor()</pre></div></div></div><div class=\"sk-serial\"><div class=\"sk-item\"><div class=\"sk-estimator sk-toggleable\"><input class=\"sk-toggleable__control sk-hidden--visually\" id=\"sk-estimator-id-5\" type=\"checkbox\" ><label for=\"sk-estimator-id-5\" class=\"sk-toggleable__label sk-toggleable__label-arrow\">DecisionTreeRegressor</label><div class=\"sk-toggleable__content\"><pre>DecisionTreeRegressor()</pre></div></div></div></div></div></div></div></div></div></div>"
      ],
      "text/plain": [
       "GridSearchCV(estimator=DecisionTreeRegressor(),\n",
       "             param_grid={'max_depth': [4, 5, 6, 7, 8, 9, 10],\n",
       "                         'min_samples_split': [300, 400, 500]})"
      ]
     },
     "execution_count": 37,
     "metadata": {},
     "output_type": "execute_result"
    }
   ],
   "source": [
    "grid.fit(train_x, train_y)"
   ]
  },
  {
   "cell_type": "code",
   "execution_count": 38,
   "id": "3bb43a5e",
   "metadata": {},
   "outputs": [
    {
     "data": {
      "text/html": [
       "<style>#sk-container-id-4 {color: black;background-color: white;}#sk-container-id-4 pre{padding: 0;}#sk-container-id-4 div.sk-toggleable {background-color: white;}#sk-container-id-4 label.sk-toggleable__label {cursor: pointer;display: block;width: 100%;margin-bottom: 0;padding: 0.3em;box-sizing: border-box;text-align: center;}#sk-container-id-4 label.sk-toggleable__label-arrow:before {content: \"▸\";float: left;margin-right: 0.25em;color: #696969;}#sk-container-id-4 label.sk-toggleable__label-arrow:hover:before {color: black;}#sk-container-id-4 div.sk-estimator:hover label.sk-toggleable__label-arrow:before {color: black;}#sk-container-id-4 div.sk-toggleable__content {max-height: 0;max-width: 0;overflow: hidden;text-align: left;background-color: #f0f8ff;}#sk-container-id-4 div.sk-toggleable__content pre {margin: 0.2em;color: black;border-radius: 0.25em;background-color: #f0f8ff;}#sk-container-id-4 input.sk-toggleable__control:checked~div.sk-toggleable__content {max-height: 200px;max-width: 100%;overflow: auto;}#sk-container-id-4 input.sk-toggleable__control:checked~label.sk-toggleable__label-arrow:before {content: \"▾\";}#sk-container-id-4 div.sk-estimator input.sk-toggleable__control:checked~label.sk-toggleable__label {background-color: #d4ebff;}#sk-container-id-4 div.sk-label input.sk-toggleable__control:checked~label.sk-toggleable__label {background-color: #d4ebff;}#sk-container-id-4 input.sk-hidden--visually {border: 0;clip: rect(1px 1px 1px 1px);clip: rect(1px, 1px, 1px, 1px);height: 1px;margin: -1px;overflow: hidden;padding: 0;position: absolute;width: 1px;}#sk-container-id-4 div.sk-estimator {font-family: monospace;background-color: #f0f8ff;border: 1px dotted black;border-radius: 0.25em;box-sizing: border-box;margin-bottom: 0.5em;}#sk-container-id-4 div.sk-estimator:hover {background-color: #d4ebff;}#sk-container-id-4 div.sk-parallel-item::after {content: \"\";width: 100%;border-bottom: 1px solid gray;flex-grow: 1;}#sk-container-id-4 div.sk-label:hover label.sk-toggleable__label {background-color: #d4ebff;}#sk-container-id-4 div.sk-serial::before {content: \"\";position: absolute;border-left: 1px solid gray;box-sizing: border-box;top: 0;bottom: 0;left: 50%;z-index: 0;}#sk-container-id-4 div.sk-serial {display: flex;flex-direction: column;align-items: center;background-color: white;padding-right: 0.2em;padding-left: 0.2em;position: relative;}#sk-container-id-4 div.sk-item {position: relative;z-index: 1;}#sk-container-id-4 div.sk-parallel {display: flex;align-items: stretch;justify-content: center;background-color: white;position: relative;}#sk-container-id-4 div.sk-item::before, #sk-container-id-4 div.sk-parallel-item::before {content: \"\";position: absolute;border-left: 1px solid gray;box-sizing: border-box;top: 0;bottom: 0;left: 50%;z-index: -1;}#sk-container-id-4 div.sk-parallel-item {display: flex;flex-direction: column;z-index: 1;position: relative;background-color: white;}#sk-container-id-4 div.sk-parallel-item:first-child::after {align-self: flex-end;width: 50%;}#sk-container-id-4 div.sk-parallel-item:last-child::after {align-self: flex-start;width: 50%;}#sk-container-id-4 div.sk-parallel-item:only-child::after {width: 0;}#sk-container-id-4 div.sk-dashed-wrapped {border: 1px dashed gray;margin: 0 0.4em 0.5em 0.4em;box-sizing: border-box;padding-bottom: 0.4em;background-color: white;}#sk-container-id-4 div.sk-label label {font-family: monospace;font-weight: bold;display: inline-block;line-height: 1.2em;}#sk-container-id-4 div.sk-label-container {text-align: center;}#sk-container-id-4 div.sk-container {/* jupyter's `normalize.less` sets `[hidden] { display: none; }` but bootstrap.min.css set `[hidden] { display: none !important; }` so we also need the `!important` here to be able to override the default hidden behavior on the sphinx rendered scikit-learn.org. See: https://github.com/scikit-learn/scikit-learn/issues/21755 */display: inline-block !important;position: relative;}#sk-container-id-4 div.sk-text-repr-fallback {display: none;}</style><div id=\"sk-container-id-4\" class=\"sk-top-container\"><div class=\"sk-text-repr-fallback\"><pre>DecisionTreeRegressor(max_depth=10, min_samples_split=300)</pre><b>In a Jupyter environment, please rerun this cell to show the HTML representation or trust the notebook. <br />On GitHub, the HTML representation is unable to render, please try loading this page with nbviewer.org.</b></div><div class=\"sk-container\" hidden><div class=\"sk-item\"><div class=\"sk-estimator sk-toggleable\"><input class=\"sk-toggleable__control sk-hidden--visually\" id=\"sk-estimator-id-6\" type=\"checkbox\" checked><label for=\"sk-estimator-id-6\" class=\"sk-toggleable__label sk-toggleable__label-arrow\">DecisionTreeRegressor</label><div class=\"sk-toggleable__content\"><pre>DecisionTreeRegressor(max_depth=10, min_samples_split=300)</pre></div></div></div></div></div>"
      ],
      "text/plain": [
       "DecisionTreeRegressor(max_depth=10, min_samples_split=300)"
      ]
     },
     "execution_count": 38,
     "metadata": {},
     "output_type": "execute_result"
    }
   ],
   "source": [
    "grid.best_estimator_"
   ]
  },
  {
   "cell_type": "code",
   "execution_count": null,
   "id": "d4a1b7d7",
   "metadata": {},
   "outputs": [],
   "source": []
  },
  {
   "cell_type": "code",
   "execution_count": 39,
   "id": "70344353",
   "metadata": {},
   "outputs": [],
   "source": [
    "dt1 = DecisionTreeRegressor( max_depth=10, min_samples_split=300)"
   ]
  },
  {
   "cell_type": "code",
   "execution_count": 40,
   "id": "8f213e7d",
   "metadata": {},
   "outputs": [
    {
     "data": {
      "text/html": [
       "<style>#sk-container-id-5 {color: black;background-color: white;}#sk-container-id-5 pre{padding: 0;}#sk-container-id-5 div.sk-toggleable {background-color: white;}#sk-container-id-5 label.sk-toggleable__label {cursor: pointer;display: block;width: 100%;margin-bottom: 0;padding: 0.3em;box-sizing: border-box;text-align: center;}#sk-container-id-5 label.sk-toggleable__label-arrow:before {content: \"▸\";float: left;margin-right: 0.25em;color: #696969;}#sk-container-id-5 label.sk-toggleable__label-arrow:hover:before {color: black;}#sk-container-id-5 div.sk-estimator:hover label.sk-toggleable__label-arrow:before {color: black;}#sk-container-id-5 div.sk-toggleable__content {max-height: 0;max-width: 0;overflow: hidden;text-align: left;background-color: #f0f8ff;}#sk-container-id-5 div.sk-toggleable__content pre {margin: 0.2em;color: black;border-radius: 0.25em;background-color: #f0f8ff;}#sk-container-id-5 input.sk-toggleable__control:checked~div.sk-toggleable__content {max-height: 200px;max-width: 100%;overflow: auto;}#sk-container-id-5 input.sk-toggleable__control:checked~label.sk-toggleable__label-arrow:before {content: \"▾\";}#sk-container-id-5 div.sk-estimator input.sk-toggleable__control:checked~label.sk-toggleable__label {background-color: #d4ebff;}#sk-container-id-5 div.sk-label input.sk-toggleable__control:checked~label.sk-toggleable__label {background-color: #d4ebff;}#sk-container-id-5 input.sk-hidden--visually {border: 0;clip: rect(1px 1px 1px 1px);clip: rect(1px, 1px, 1px, 1px);height: 1px;margin: -1px;overflow: hidden;padding: 0;position: absolute;width: 1px;}#sk-container-id-5 div.sk-estimator {font-family: monospace;background-color: #f0f8ff;border: 1px dotted black;border-radius: 0.25em;box-sizing: border-box;margin-bottom: 0.5em;}#sk-container-id-5 div.sk-estimator:hover {background-color: #d4ebff;}#sk-container-id-5 div.sk-parallel-item::after {content: \"\";width: 100%;border-bottom: 1px solid gray;flex-grow: 1;}#sk-container-id-5 div.sk-label:hover label.sk-toggleable__label {background-color: #d4ebff;}#sk-container-id-5 div.sk-serial::before {content: \"\";position: absolute;border-left: 1px solid gray;box-sizing: border-box;top: 0;bottom: 0;left: 50%;z-index: 0;}#sk-container-id-5 div.sk-serial {display: flex;flex-direction: column;align-items: center;background-color: white;padding-right: 0.2em;padding-left: 0.2em;position: relative;}#sk-container-id-5 div.sk-item {position: relative;z-index: 1;}#sk-container-id-5 div.sk-parallel {display: flex;align-items: stretch;justify-content: center;background-color: white;position: relative;}#sk-container-id-5 div.sk-item::before, #sk-container-id-5 div.sk-parallel-item::before {content: \"\";position: absolute;border-left: 1px solid gray;box-sizing: border-box;top: 0;bottom: 0;left: 50%;z-index: -1;}#sk-container-id-5 div.sk-parallel-item {display: flex;flex-direction: column;z-index: 1;position: relative;background-color: white;}#sk-container-id-5 div.sk-parallel-item:first-child::after {align-self: flex-end;width: 50%;}#sk-container-id-5 div.sk-parallel-item:last-child::after {align-self: flex-start;width: 50%;}#sk-container-id-5 div.sk-parallel-item:only-child::after {width: 0;}#sk-container-id-5 div.sk-dashed-wrapped {border: 1px dashed gray;margin: 0 0.4em 0.5em 0.4em;box-sizing: border-box;padding-bottom: 0.4em;background-color: white;}#sk-container-id-5 div.sk-label label {font-family: monospace;font-weight: bold;display: inline-block;line-height: 1.2em;}#sk-container-id-5 div.sk-label-container {text-align: center;}#sk-container-id-5 div.sk-container {/* jupyter's `normalize.less` sets `[hidden] { display: none; }` but bootstrap.min.css set `[hidden] { display: none !important; }` so we also need the `!important` here to be able to override the default hidden behavior on the sphinx rendered scikit-learn.org. See: https://github.com/scikit-learn/scikit-learn/issues/21755 */display: inline-block !important;position: relative;}#sk-container-id-5 div.sk-text-repr-fallback {display: none;}</style><div id=\"sk-container-id-5\" class=\"sk-top-container\"><div class=\"sk-text-repr-fallback\"><pre>DecisionTreeRegressor(max_depth=10, min_samples_split=300)</pre><b>In a Jupyter environment, please rerun this cell to show the HTML representation or trust the notebook. <br />On GitHub, the HTML representation is unable to render, please try loading this page with nbviewer.org.</b></div><div class=\"sk-container\" hidden><div class=\"sk-item\"><div class=\"sk-estimator sk-toggleable\"><input class=\"sk-toggleable__control sk-hidden--visually\" id=\"sk-estimator-id-7\" type=\"checkbox\" checked><label for=\"sk-estimator-id-7\" class=\"sk-toggleable__label sk-toggleable__label-arrow\">DecisionTreeRegressor</label><div class=\"sk-toggleable__content\"><pre>DecisionTreeRegressor(max_depth=10, min_samples_split=300)</pre></div></div></div></div></div>"
      ],
      "text/plain": [
       "DecisionTreeRegressor(max_depth=10, min_samples_split=300)"
      ]
     },
     "execution_count": 40,
     "metadata": {},
     "output_type": "execute_result"
    }
   ],
   "source": [
    "dt1.fit(train_x, train_y)"
   ]
  },
  {
   "cell_type": "code",
   "execution_count": 41,
   "id": "21f18a25",
   "metadata": {},
   "outputs": [
    {
     "data": {
      "text/plain": [
       "0.7900618123451308"
      ]
     },
     "execution_count": 41,
     "metadata": {},
     "output_type": "execute_result"
    }
   ],
   "source": [
    "dt1.score(train_x, train_y)"
   ]
  },
  {
   "cell_type": "code",
   "execution_count": 42,
   "id": "33cdfa26",
   "metadata": {},
   "outputs": [],
   "source": [
    "pred_dt1 = dt1.predict(test_x)"
   ]
  },
  {
   "cell_type": "code",
   "execution_count": 43,
   "id": "d4998d5a",
   "metadata": {},
   "outputs": [
    {
     "data": {
      "text/plain": [
       "1.2693626497771584"
      ]
     },
     "execution_count": 43,
     "metadata": {},
     "output_type": "execute_result"
    }
   ],
   "source": [
    "mean_absolute_error(test_y, pred_dt1)"
   ]
  },
  {
   "cell_type": "code",
   "execution_count": 44,
   "id": "31277062",
   "metadata": {},
   "outputs": [
    {
     "data": {
      "text/plain": [
       "0.2600137058620138"
      ]
     },
     "execution_count": 44,
     "metadata": {},
     "output_type": "execute_result"
    }
   ],
   "source": [
    "mape_dt1 = mean_absolute_percentage_error(test_y, pred_dt1)\n",
    "mape_dt1"
   ]
  },
  {
   "cell_type": "code",
   "execution_count": null,
   "id": "32d02575",
   "metadata": {},
   "outputs": [],
   "source": []
  },
  {
   "cell_type": "code",
   "execution_count": null,
   "id": "7e0aade3",
   "metadata": {},
   "outputs": [],
   "source": []
  },
  {
   "cell_type": "code",
   "execution_count": null,
   "id": "e33ac8f1",
   "metadata": {},
   "outputs": [],
   "source": []
  },
  {
   "cell_type": "code",
   "execution_count": 45,
   "id": "97b93df4",
   "metadata": {},
   "outputs": [],
   "source": [
    "## checking for train and test data "
   ]
  },
  {
   "cell_type": "code",
   "execution_count": 46,
   "id": "c31856c2",
   "metadata": {},
   "outputs": [],
   "source": [
    "## on train data"
   ]
  },
  {
   "cell_type": "code",
   "execution_count": 47,
   "id": "a437e2a0",
   "metadata": {},
   "outputs": [],
   "source": [
    "pred_train = lr.predict(train_x)"
   ]
  },
  {
   "cell_type": "code",
   "execution_count": 48,
   "id": "f1166269",
   "metadata": {},
   "outputs": [
    {
     "data": {
      "text/plain": [
       "2.3481892320987146"
      ]
     },
     "execution_count": 48,
     "metadata": {},
     "output_type": "execute_result"
    }
   ],
   "source": [
    "mean_absolute_error(train_y, pred_train)"
   ]
  },
  {
   "cell_type": "code",
   "execution_count": 49,
   "id": "297eec81",
   "metadata": {},
   "outputs": [
    {
     "data": {
      "text/plain": [
       "0.3575314544310655"
      ]
     },
     "execution_count": 49,
     "metadata": {},
     "output_type": "execute_result"
    }
   ],
   "source": [
    "mean_absolute_percentage_error(train_y, pred_train)"
   ]
  },
  {
   "cell_type": "code",
   "execution_count": 50,
   "id": "2aa43b24",
   "metadata": {},
   "outputs": [],
   "source": [
    "## on test data"
   ]
  },
  {
   "cell_type": "code",
   "execution_count": 51,
   "id": "2e0d6044",
   "metadata": {},
   "outputs": [
    {
     "data": {
      "text/plain": [
       "2.347650045183655"
      ]
     },
     "execution_count": 51,
     "metadata": {},
     "output_type": "execute_result"
    }
   ],
   "source": [
    "mean_absolute_error(test_y, pred_lr)"
   ]
  },
  {
   "cell_type": "code",
   "execution_count": 52,
   "id": "9eef5706",
   "metadata": {},
   "outputs": [
    {
     "data": {
      "text/plain": [
       "0.3948435282576692"
      ]
     },
     "execution_count": 52,
     "metadata": {},
     "output_type": "execute_result"
    }
   ],
   "source": [
    "mean_absolute_percentage_error(test_y, pred_lr)"
   ]
  },
  {
   "cell_type": "code",
   "execution_count": 53,
   "id": "a6abbc2e",
   "metadata": {},
   "outputs": [],
   "source": [
    "## not huge difference hence its not required to use Ridge and Lasso"
   ]
  },
  {
   "cell_type": "code",
   "execution_count": null,
   "id": "f799edf0",
   "metadata": {},
   "outputs": [],
   "source": []
  },
  {
   "cell_type": "markdown",
   "id": "bfbe84b5",
   "metadata": {},
   "source": [
    "#### CatBoostRegressor "
   ]
  },
  {
   "cell_type": "code",
   "execution_count": 55,
   "id": "2d57d562",
   "metadata": {},
   "outputs": [],
   "source": [
    "from catboost import CatBoostRegressor\n",
    "cbc = CatBoostRegressor(max_depth=16,loss_function='MAPE')"
   ]
  },
  {
   "cell_type": "code",
   "execution_count": 56,
   "id": "10188047",
   "metadata": {},
   "outputs": [
    {
     "name": "stdout",
     "output_type": "stream",
     "text": [
      "0:\tlearn: 0.2408827\ttotal: 6.19s\tremaining: 1h 43m 5s\n",
      "1:\tlearn: 0.2375280\ttotal: 8.38s\tremaining: 1h 9m 39s\n",
      "2:\tlearn: 0.2343522\ttotal: 10.5s\tremaining: 58m 25s\n",
      "3:\tlearn: 0.2311945\ttotal: 12.8s\tremaining: 52m 57s\n",
      "4:\tlearn: 0.2284054\ttotal: 15s\tremaining: 49m 41s\n",
      "5:\tlearn: 0.2256438\ttotal: 17.2s\tremaining: 47m 21s\n",
      "6:\tlearn: 0.2228690\ttotal: 19.1s\tremaining: 45m 13s\n",
      "7:\tlearn: 0.2203893\ttotal: 21.1s\tremaining: 43m 36s\n",
      "8:\tlearn: 0.2179513\ttotal: 23.1s\tremaining: 42m 19s\n",
      "9:\tlearn: 0.2157466\ttotal: 25s\tremaining: 41m 15s\n",
      "10:\tlearn: 0.2134066\ttotal: 27s\tremaining: 40m 25s\n",
      "11:\tlearn: 0.2112253\ttotal: 28.9s\tremaining: 39m 40s\n",
      "12:\tlearn: 0.2088544\ttotal: 30.9s\tremaining: 39m 7s\n",
      "13:\tlearn: 0.2064415\ttotal: 32.9s\tremaining: 38m 33s\n",
      "14:\tlearn: 0.2042508\ttotal: 34.9s\tremaining: 38m 9s\n",
      "15:\tlearn: 0.2021449\ttotal: 36.9s\tremaining: 37m 48s\n",
      "16:\tlearn: 0.1999823\ttotal: 38.9s\tremaining: 37m 31s\n",
      "17:\tlearn: 0.1983106\ttotal: 40.8s\tremaining: 37m 8s\n",
      "18:\tlearn: 0.1962027\ttotal: 42.8s\tremaining: 36m 48s\n",
      "19:\tlearn: 0.1942514\ttotal: 44.7s\tremaining: 36m 29s\n",
      "20:\tlearn: 0.1923041\ttotal: 46.6s\tremaining: 36m 14s\n",
      "21:\tlearn: 0.1905313\ttotal: 48.6s\tremaining: 36m 1s\n",
      "22:\tlearn: 0.1889778\ttotal: 50.6s\tremaining: 35m 48s\n",
      "23:\tlearn: 0.1874543\ttotal: 52.5s\tremaining: 35m 36s\n",
      "24:\tlearn: 0.1860122\ttotal: 54.5s\tremaining: 35m 24s\n",
      "25:\tlearn: 0.1846949\ttotal: 56.4s\tremaining: 35m 12s\n",
      "26:\tlearn: 0.1829481\ttotal: 58.3s\tremaining: 34m 59s\n",
      "27:\tlearn: 0.1813372\ttotal: 1m\tremaining: 34m 48s\n",
      "28:\tlearn: 0.1800436\ttotal: 1m 2s\tremaining: 34m 38s\n",
      "29:\tlearn: 0.1785163\ttotal: 1m 3s\tremaining: 34m 27s\n",
      "30:\tlearn: 0.1770161\ttotal: 1m 5s\tremaining: 34m 18s\n",
      "31:\tlearn: 0.1755350\ttotal: 1m 7s\tremaining: 34m 10s\n",
      "32:\tlearn: 0.1741956\ttotal: 1m 9s\tremaining: 34m 2s\n",
      "33:\tlearn: 0.1729502\ttotal: 1m 11s\tremaining: 33m 55s\n",
      "34:\tlearn: 0.1716866\ttotal: 1m 13s\tremaining: 33m 48s\n",
      "35:\tlearn: 0.1705177\ttotal: 1m 15s\tremaining: 33m 41s\n",
      "36:\tlearn: 0.1693769\ttotal: 1m 17s\tremaining: 33m 33s\n",
      "37:\tlearn: 0.1681911\ttotal: 1m 19s\tremaining: 33m 27s\n",
      "38:\tlearn: 0.1670440\ttotal: 1m 21s\tremaining: 33m 21s\n",
      "39:\tlearn: 0.1659500\ttotal: 1m 23s\tremaining: 33m 15s\n",
      "40:\tlearn: 0.1648647\ttotal: 1m 25s\tremaining: 33m 9s\n",
      "41:\tlearn: 0.1638685\ttotal: 1m 26s\tremaining: 33m 3s\n",
      "42:\tlearn: 0.1628932\ttotal: 1m 28s\tremaining: 32m 58s\n",
      "43:\tlearn: 0.1620249\ttotal: 1m 30s\tremaining: 32m 52s\n",
      "44:\tlearn: 0.1610772\ttotal: 1m 32s\tremaining: 32m 47s\n",
      "45:\tlearn: 0.1601365\ttotal: 1m 34s\tremaining: 32m 41s\n",
      "46:\tlearn: 0.1592309\ttotal: 1m 36s\tremaining: 32m 37s\n",
      "47:\tlearn: 0.1582836\ttotal: 1m 38s\tremaining: 32m 33s\n",
      "48:\tlearn: 0.1573940\ttotal: 1m 40s\tremaining: 32m 28s\n",
      "49:\tlearn: 0.1565880\ttotal: 1m 42s\tremaining: 32m 23s\n",
      "50:\tlearn: 0.1559055\ttotal: 1m 44s\tremaining: 32m 18s\n",
      "51:\tlearn: 0.1549722\ttotal: 1m 46s\tremaining: 32m 13s\n",
      "52:\tlearn: 0.1541358\ttotal: 1m 47s\tremaining: 32m 8s\n",
      "53:\tlearn: 0.1534011\ttotal: 1m 49s\tremaining: 32m 4s\n",
      "54:\tlearn: 0.1527058\ttotal: 1m 51s\tremaining: 32m\n",
      "55:\tlearn: 0.1519462\ttotal: 1m 53s\tremaining: 31m 56s\n",
      "56:\tlearn: 0.1512353\ttotal: 1m 55s\tremaining: 31m 51s\n",
      "57:\tlearn: 0.1505419\ttotal: 1m 57s\tremaining: 31m 47s\n",
      "58:\tlearn: 0.1498824\ttotal: 1m 59s\tremaining: 31m 44s\n",
      "59:\tlearn: 0.1492204\ttotal: 2m 1s\tremaining: 31m 40s\n",
      "60:\tlearn: 0.1486277\ttotal: 2m 3s\tremaining: 31m 37s\n",
      "61:\tlearn: 0.1480470\ttotal: 2m 5s\tremaining: 31m 33s\n",
      "62:\tlearn: 0.1474648\ttotal: 2m 7s\tremaining: 31m 31s\n",
      "63:\tlearn: 0.1468789\ttotal: 2m 9s\tremaining: 31m 28s\n",
      "64:\tlearn: 0.1461973\ttotal: 2m 11s\tremaining: 31m 25s\n",
      "65:\tlearn: 0.1455741\ttotal: 2m 12s\tremaining: 31m 21s\n",
      "66:\tlearn: 0.1449449\ttotal: 2m 14s\tremaining: 31m 17s\n",
      "67:\tlearn: 0.1444717\ttotal: 2m 16s\tremaining: 31m 14s\n",
      "68:\tlearn: 0.1439670\ttotal: 2m 18s\tremaining: 31m 10s\n",
      "69:\tlearn: 0.1434208\ttotal: 2m 20s\tremaining: 31m 6s\n",
      "70:\tlearn: 0.1429736\ttotal: 2m 22s\tremaining: 31m 2s\n",
      "71:\tlearn: 0.1424662\ttotal: 2m 24s\tremaining: 30m 58s\n",
      "72:\tlearn: 0.1419697\ttotal: 2m 26s\tremaining: 30m 55s\n",
      "73:\tlearn: 0.1414784\ttotal: 2m 28s\tremaining: 30m 52s\n",
      "74:\tlearn: 0.1410318\ttotal: 2m 29s\tremaining: 30m 49s\n",
      "75:\tlearn: 0.1405942\ttotal: 2m 31s\tremaining: 30m 46s\n",
      "76:\tlearn: 0.1401714\ttotal: 2m 33s\tremaining: 30m 43s\n",
      "77:\tlearn: 0.1397109\ttotal: 2m 35s\tremaining: 30m 39s\n",
      "78:\tlearn: 0.1393192\ttotal: 2m 37s\tremaining: 30m 36s\n",
      "79:\tlearn: 0.1389366\ttotal: 2m 39s\tremaining: 30m 33s\n",
      "80:\tlearn: 0.1385564\ttotal: 2m 41s\tremaining: 30m 30s\n",
      "81:\tlearn: 0.1381445\ttotal: 2m 43s\tremaining: 30m 27s\n",
      "82:\tlearn: 0.1378213\ttotal: 2m 45s\tremaining: 30m 24s\n",
      "83:\tlearn: 0.1374115\ttotal: 2m 47s\tremaining: 30m 22s\n",
      "84:\tlearn: 0.1370366\ttotal: 2m 48s\tremaining: 30m 18s\n",
      "85:\tlearn: 0.1366417\ttotal: 2m 50s\tremaining: 30m 15s\n",
      "86:\tlearn: 0.1363288\ttotal: 2m 52s\tremaining: 30m 12s\n",
      "87:\tlearn: 0.1359930\ttotal: 2m 54s\tremaining: 30m 10s\n",
      "88:\tlearn: 0.1356898\ttotal: 2m 56s\tremaining: 30m 7s\n",
      "89:\tlearn: 0.1353497\ttotal: 2m 58s\tremaining: 30m 4s\n",
      "90:\tlearn: 0.1350337\ttotal: 3m\tremaining: 30m 1s\n",
      "91:\tlearn: 0.1346841\ttotal: 3m 2s\tremaining: 29m 59s\n",
      "92:\tlearn: 0.1343376\ttotal: 3m 4s\tremaining: 29m 56s\n",
      "93:\tlearn: 0.1340370\ttotal: 3m 6s\tremaining: 29m 54s\n",
      "94:\tlearn: 0.1337296\ttotal: 3m 8s\tremaining: 29m 51s\n",
      "95:\tlearn: 0.1334071\ttotal: 3m 9s\tremaining: 29m 49s\n",
      "96:\tlearn: 0.1331262\ttotal: 3m 11s\tremaining: 29m 46s\n",
      "97:\tlearn: 0.1328965\ttotal: 3m 13s\tremaining: 29m 43s\n",
      "98:\tlearn: 0.1326121\ttotal: 3m 15s\tremaining: 29m 40s\n",
      "99:\tlearn: 0.1323414\ttotal: 3m 17s\tremaining: 29m 38s\n",
      "100:\tlearn: 0.1321106\ttotal: 3m 19s\tremaining: 29m 35s\n",
      "101:\tlearn: 0.1318757\ttotal: 3m 21s\tremaining: 29m 33s\n",
      "102:\tlearn: 0.1316120\ttotal: 3m 23s\tremaining: 29m 30s\n",
      "103:\tlearn: 0.1313711\ttotal: 3m 25s\tremaining: 29m 28s\n",
      "104:\tlearn: 0.1311470\ttotal: 3m 27s\tremaining: 29m 25s\n",
      "105:\tlearn: 0.1308883\ttotal: 3m 29s\tremaining: 29m 23s\n",
      "106:\tlearn: 0.1306719\ttotal: 3m 31s\tremaining: 29m 20s\n",
      "107:\tlearn: 0.1304295\ttotal: 3m 32s\tremaining: 29m 18s\n",
      "108:\tlearn: 0.1302143\ttotal: 3m 34s\tremaining: 29m 16s\n",
      "109:\tlearn: 0.1300072\ttotal: 3m 36s\tremaining: 29m 14s\n",
      "110:\tlearn: 0.1298088\ttotal: 3m 38s\tremaining: 29m 12s\n",
      "111:\tlearn: 0.1296147\ttotal: 3m 40s\tremaining: 29m 9s\n",
      "112:\tlearn: 0.1293896\ttotal: 3m 42s\tremaining: 29m 7s\n",
      "113:\tlearn: 0.1291751\ttotal: 3m 44s\tremaining: 29m 4s\n",
      "114:\tlearn: 0.1289798\ttotal: 3m 46s\tremaining: 29m 2s\n",
      "115:\tlearn: 0.1287810\ttotal: 3m 48s\tremaining: 29m\n",
      "116:\tlearn: 0.1285804\ttotal: 3m 50s\tremaining: 28m 57s\n",
      "117:\tlearn: 0.1283830\ttotal: 3m 52s\tremaining: 28m 55s\n",
      "118:\tlearn: 0.1282219\ttotal: 3m 54s\tremaining: 28m 53s\n",
      "119:\tlearn: 0.1280335\ttotal: 3m 56s\tremaining: 28m 51s\n",
      "120:\tlearn: 0.1278244\ttotal: 3m 58s\tremaining: 28m 49s\n",
      "121:\tlearn: 0.1276515\ttotal: 3m 59s\tremaining: 28m 46s\n",
      "122:\tlearn: 0.1274761\ttotal: 4m 1s\tremaining: 28m 44s\n",
      "123:\tlearn: 0.1273039\ttotal: 4m 3s\tremaining: 28m 43s\n",
      "124:\tlearn: 0.1271380\ttotal: 4m 5s\tremaining: 28m 40s\n",
      "125:\tlearn: 0.1269830\ttotal: 4m 7s\tremaining: 28m 38s\n",
      "126:\tlearn: 0.1268366\ttotal: 4m 9s\tremaining: 28m 36s\n",
      "127:\tlearn: 0.1266900\ttotal: 4m 11s\tremaining: 28m 34s\n",
      "128:\tlearn: 0.1265187\ttotal: 4m 13s\tremaining: 28m 32s\n",
      "129:\tlearn: 0.1264009\ttotal: 4m 15s\tremaining: 28m 30s\n",
      "130:\tlearn: 0.1262513\ttotal: 4m 17s\tremaining: 28m 27s\n",
      "131:\tlearn: 0.1261088\ttotal: 4m 19s\tremaining: 28m 25s\n",
      "132:\tlearn: 0.1259685\ttotal: 4m 21s\tremaining: 28m 23s\n",
      "133:\tlearn: 0.1258407\ttotal: 4m 23s\tremaining: 28m 21s\n",
      "134:\tlearn: 0.1257255\ttotal: 4m 25s\tremaining: 28m 18s\n",
      "135:\tlearn: 0.1255934\ttotal: 4m 27s\tremaining: 28m 16s\n",
      "136:\tlearn: 0.1254529\ttotal: 4m 29s\tremaining: 28m 14s\n",
      "137:\tlearn: 0.1253224\ttotal: 4m 30s\tremaining: 28m 12s\n",
      "138:\tlearn: 0.1251884\ttotal: 4m 32s\tremaining: 28m 10s\n",
      "139:\tlearn: 0.1250782\ttotal: 4m 34s\tremaining: 28m 8s\n",
      "140:\tlearn: 0.1249531\ttotal: 4m 36s\tremaining: 28m 5s\n",
      "141:\tlearn: 0.1248370\ttotal: 4m 38s\tremaining: 28m 3s\n",
      "142:\tlearn: 0.1247427\ttotal: 4m 40s\tremaining: 28m 1s\n",
      "143:\tlearn: 0.1246290\ttotal: 4m 42s\tremaining: 27m 58s\n",
      "144:\tlearn: 0.1245338\ttotal: 4m 44s\tremaining: 27m 56s\n",
      "145:\tlearn: 0.1244245\ttotal: 4m 46s\tremaining: 27m 54s\n",
      "146:\tlearn: 0.1243202\ttotal: 4m 48s\tremaining: 27m 52s\n",
      "147:\tlearn: 0.1242067\ttotal: 4m 50s\tremaining: 27m 50s\n",
      "148:\tlearn: 0.1241070\ttotal: 4m 52s\tremaining: 27m 48s\n",
      "149:\tlearn: 0.1239950\ttotal: 4m 54s\tremaining: 27m 46s\n",
      "150:\tlearn: 0.1238916\ttotal: 4m 55s\tremaining: 27m 44s\n",
      "151:\tlearn: 0.1237896\ttotal: 4m 57s\tremaining: 27m 41s\n",
      "152:\tlearn: 0.1237060\ttotal: 4m 59s\tremaining: 27m 39s\n",
      "153:\tlearn: 0.1236076\ttotal: 5m 1s\tremaining: 27m 37s\n",
      "154:\tlearn: 0.1235080\ttotal: 5m 3s\tremaining: 27m 35s\n",
      "155:\tlearn: 0.1234188\ttotal: 5m 5s\tremaining: 27m 33s\n",
      "156:\tlearn: 0.1233208\ttotal: 5m 7s\tremaining: 27m 30s\n",
      "157:\tlearn: 0.1232415\ttotal: 5m 9s\tremaining: 27m 28s\n",
      "158:\tlearn: 0.1231696\ttotal: 5m 11s\tremaining: 27m 26s\n",
      "159:\tlearn: 0.1230847\ttotal: 5m 13s\tremaining: 27m 24s\n",
      "160:\tlearn: 0.1229944\ttotal: 5m 15s\tremaining: 27m 22s\n",
      "161:\tlearn: 0.1229017\ttotal: 5m 17s\tremaining: 27m 19s\n",
      "162:\tlearn: 0.1228141\ttotal: 5m 18s\tremaining: 27m 17s\n",
      "163:\tlearn: 0.1227448\ttotal: 5m 20s\tremaining: 27m 15s\n",
      "164:\tlearn: 0.1226701\ttotal: 5m 22s\tremaining: 27m 13s\n",
      "165:\tlearn: 0.1225753\ttotal: 5m 24s\tremaining: 27m 11s\n",
      "166:\tlearn: 0.1224926\ttotal: 5m 26s\tremaining: 27m 9s\n",
      "167:\tlearn: 0.1224346\ttotal: 5m 28s\tremaining: 27m 6s\n",
      "168:\tlearn: 0.1223490\ttotal: 5m 30s\tremaining: 27m 4s\n",
      "169:\tlearn: 0.1222803\ttotal: 5m 32s\tremaining: 27m 2s\n",
      "170:\tlearn: 0.1221914\ttotal: 5m 34s\tremaining: 27m\n",
      "171:\tlearn: 0.1221199\ttotal: 5m 36s\tremaining: 26m 58s\n",
      "172:\tlearn: 0.1220540\ttotal: 5m 38s\tremaining: 26m 56s\n",
      "173:\tlearn: 0.1219964\ttotal: 5m 40s\tremaining: 26m 54s\n",
      "174:\tlearn: 0.1219433\ttotal: 5m 42s\tremaining: 26m 52s\n",
      "175:\tlearn: 0.1218591\ttotal: 5m 43s\tremaining: 26m 50s\n",
      "176:\tlearn: 0.1217982\ttotal: 5m 45s\tremaining: 26m 48s\n",
      "177:\tlearn: 0.1217303\ttotal: 5m 47s\tremaining: 26m 46s\n",
      "178:\tlearn: 0.1216827\ttotal: 5m 49s\tremaining: 26m 44s\n",
      "179:\tlearn: 0.1216169\ttotal: 5m 51s\tremaining: 26m 42s\n",
      "180:\tlearn: 0.1215426\ttotal: 5m 53s\tremaining: 26m 40s\n",
      "181:\tlearn: 0.1214823\ttotal: 5m 55s\tremaining: 26m 38s\n",
      "182:\tlearn: 0.1214337\ttotal: 5m 57s\tremaining: 26m 35s\n",
      "183:\tlearn: 0.1213606\ttotal: 5m 59s\tremaining: 26m 33s\n",
      "184:\tlearn: 0.1212938\ttotal: 6m 1s\tremaining: 26m 31s\n",
      "185:\tlearn: 0.1212421\ttotal: 6m 3s\tremaining: 26m 29s\n",
      "186:\tlearn: 0.1211759\ttotal: 6m 5s\tremaining: 26m 27s\n",
      "187:\tlearn: 0.1211263\ttotal: 6m 7s\tremaining: 26m 25s\n",
      "188:\tlearn: 0.1210779\ttotal: 6m 9s\tremaining: 26m 23s\n",
      "189:\tlearn: 0.1210181\ttotal: 6m 11s\tremaining: 26m 21s\n",
      "190:\tlearn: 0.1209482\ttotal: 6m 12s\tremaining: 26m 19s\n",
      "191:\tlearn: 0.1208918\ttotal: 6m 14s\tremaining: 26m 17s\n",
      "192:\tlearn: 0.1208405\ttotal: 6m 16s\tremaining: 26m 15s\n",
      "193:\tlearn: 0.1207968\ttotal: 6m 18s\tremaining: 26m 13s\n",
      "194:\tlearn: 0.1207568\ttotal: 6m 20s\tremaining: 26m 10s\n",
      "195:\tlearn: 0.1207001\ttotal: 6m 22s\tremaining: 26m 8s\n",
      "196:\tlearn: 0.1206577\ttotal: 6m 24s\tremaining: 26m 6s\n",
      "197:\tlearn: 0.1206186\ttotal: 6m 26s\tremaining: 26m 4s\n",
      "198:\tlearn: 0.1205676\ttotal: 6m 28s\tremaining: 26m 2s\n",
      "199:\tlearn: 0.1205298\ttotal: 6m 30s\tremaining: 26m\n",
      "200:\tlearn: 0.1204782\ttotal: 6m 32s\tremaining: 25m 58s\n",
      "201:\tlearn: 0.1204300\ttotal: 6m 33s\tremaining: 25m 56s\n",
      "202:\tlearn: 0.1204018\ttotal: 6m 35s\tremaining: 25m 54s\n",
      "203:\tlearn: 0.1203564\ttotal: 6m 37s\tremaining: 25m 52s\n",
      "204:\tlearn: 0.1203068\ttotal: 6m 39s\tremaining: 25m 49s\n",
      "205:\tlearn: 0.1202625\ttotal: 6m 41s\tremaining: 25m 47s\n",
      "206:\tlearn: 0.1202248\ttotal: 6m 43s\tremaining: 25m 45s\n",
      "207:\tlearn: 0.1201802\ttotal: 6m 45s\tremaining: 25m 43s\n",
      "208:\tlearn: 0.1201337\ttotal: 6m 47s\tremaining: 25m 41s\n",
      "209:\tlearn: 0.1200757\ttotal: 6m 49s\tremaining: 25m 39s\n",
      "210:\tlearn: 0.1200363\ttotal: 6m 51s\tremaining: 25m 37s\n",
      "211:\tlearn: 0.1199866\ttotal: 6m 53s\tremaining: 25m 35s\n",
      "212:\tlearn: 0.1199573\ttotal: 6m 55s\tremaining: 25m 33s\n",
      "213:\tlearn: 0.1199283\ttotal: 6m 56s\tremaining: 25m 31s\n",
      "214:\tlearn: 0.1198883\ttotal: 6m 58s\tremaining: 25m 29s\n",
      "215:\tlearn: 0.1198567\ttotal: 7m\tremaining: 25m 27s\n",
      "216:\tlearn: 0.1198295\ttotal: 7m 2s\tremaining: 25m 25s\n",
      "217:\tlearn: 0.1198067\ttotal: 7m 4s\tremaining: 25m 23s\n",
      "218:\tlearn: 0.1197678\ttotal: 7m 6s\tremaining: 25m 21s\n",
      "219:\tlearn: 0.1197407\ttotal: 7m 8s\tremaining: 25m 18s\n",
      "220:\tlearn: 0.1197027\ttotal: 7m 10s\tremaining: 25m 16s\n",
      "221:\tlearn: 0.1196723\ttotal: 7m 12s\tremaining: 25m 14s\n",
      "222:\tlearn: 0.1196500\ttotal: 7m 14s\tremaining: 25m 12s\n",
      "223:\tlearn: 0.1196194\ttotal: 7m 16s\tremaining: 25m 10s\n",
      "224:\tlearn: 0.1195880\ttotal: 7m 18s\tremaining: 25m 8s\n",
      "225:\tlearn: 0.1195437\ttotal: 7m 19s\tremaining: 25m 6s\n",
      "226:\tlearn: 0.1195147\ttotal: 7m 21s\tremaining: 25m 4s\n",
      "227:\tlearn: 0.1194904\ttotal: 7m 23s\tremaining: 25m 2s\n",
      "228:\tlearn: 0.1194594\ttotal: 7m 25s\tremaining: 25m\n",
      "229:\tlearn: 0.1194384\ttotal: 7m 27s\tremaining: 24m 58s\n",
      "230:\tlearn: 0.1194025\ttotal: 7m 29s\tremaining: 24m 56s\n",
      "231:\tlearn: 0.1193797\ttotal: 7m 31s\tremaining: 24m 54s\n",
      "232:\tlearn: 0.1193563\ttotal: 7m 33s\tremaining: 24m 52s\n",
      "233:\tlearn: 0.1193244\ttotal: 7m 35s\tremaining: 24m 50s\n",
      "234:\tlearn: 0.1193064\ttotal: 7m 37s\tremaining: 24m 48s\n",
      "235:\tlearn: 0.1192769\ttotal: 7m 39s\tremaining: 24m 46s\n",
      "236:\tlearn: 0.1192468\ttotal: 7m 41s\tremaining: 24m 44s\n",
      "237:\tlearn: 0.1192286\ttotal: 7m 43s\tremaining: 24m 42s\n",
      "238:\tlearn: 0.1192082\ttotal: 7m 44s\tremaining: 24m 40s\n",
      "239:\tlearn: 0.1191870\ttotal: 7m 46s\tremaining: 24m 38s\n",
      "240:\tlearn: 0.1191653\ttotal: 7m 48s\tremaining: 24m 36s\n",
      "241:\tlearn: 0.1191351\ttotal: 7m 50s\tremaining: 24m 34s\n",
      "242:\tlearn: 0.1191200\ttotal: 7m 52s\tremaining: 24m 32s\n",
      "243:\tlearn: 0.1191044\ttotal: 7m 54s\tremaining: 24m 30s\n",
      "244:\tlearn: 0.1190723\ttotal: 7m 56s\tremaining: 24m 28s\n",
      "245:\tlearn: 0.1190418\ttotal: 7m 58s\tremaining: 24m 26s\n",
      "246:\tlearn: 0.1190233\ttotal: 8m\tremaining: 24m 24s\n",
      "247:\tlearn: 0.1189998\ttotal: 8m 2s\tremaining: 24m 22s\n",
      "248:\tlearn: 0.1189804\ttotal: 8m 4s\tremaining: 24m 20s\n",
      "249:\tlearn: 0.1189631\ttotal: 8m 6s\tremaining: 24m 18s\n",
      "250:\tlearn: 0.1189442\ttotal: 8m 7s\tremaining: 24m 16s\n",
      "251:\tlearn: 0.1189226\ttotal: 8m 9s\tremaining: 24m 14s\n",
      "252:\tlearn: 0.1189038\ttotal: 8m 11s\tremaining: 24m 12s\n",
      "253:\tlearn: 0.1188838\ttotal: 8m 13s\tremaining: 24m 10s\n",
      "254:\tlearn: 0.1188722\ttotal: 8m 15s\tremaining: 24m 8s\n",
      "255:\tlearn: 0.1188482\ttotal: 8m 17s\tremaining: 24m 6s\n",
      "256:\tlearn: 0.1188315\ttotal: 8m 19s\tremaining: 24m 4s\n",
      "257:\tlearn: 0.1188074\ttotal: 8m 21s\tremaining: 24m 2s\n",
      "258:\tlearn: 0.1187890\ttotal: 8m 23s\tremaining: 24m\n",
      "259:\tlearn: 0.1187746\ttotal: 8m 25s\tremaining: 23m 58s\n",
      "260:\tlearn: 0.1187526\ttotal: 8m 27s\tremaining: 23m 56s\n",
      "261:\tlearn: 0.1187340\ttotal: 8m 29s\tremaining: 23m 54s\n",
      "262:\tlearn: 0.1187175\ttotal: 8m 31s\tremaining: 23m 52s\n",
      "263:\tlearn: 0.1187034\ttotal: 8m 33s\tremaining: 23m 50s\n",
      "264:\tlearn: 0.1186917\ttotal: 8m 34s\tremaining: 23m 48s\n",
      "265:\tlearn: 0.1186713\ttotal: 8m 36s\tremaining: 23m 46s\n",
      "266:\tlearn: 0.1186547\ttotal: 8m 38s\tremaining: 23m 44s\n",
      "267:\tlearn: 0.1186412\ttotal: 8m 40s\tremaining: 23m 42s\n",
      "268:\tlearn: 0.1186300\ttotal: 8m 42s\tremaining: 23m 40s\n",
      "269:\tlearn: 0.1186122\ttotal: 8m 44s\tremaining: 23m 38s\n",
      "270:\tlearn: 0.1185904\ttotal: 8m 46s\tremaining: 23m 36s\n",
      "271:\tlearn: 0.1185801\ttotal: 8m 48s\tremaining: 23m 34s\n",
      "272:\tlearn: 0.1185645\ttotal: 8m 50s\tremaining: 23m 32s\n",
      "273:\tlearn: 0.1185464\ttotal: 8m 52s\tremaining: 23m 30s\n",
      "274:\tlearn: 0.1185352\ttotal: 8m 54s\tremaining: 23m 28s\n",
      "275:\tlearn: 0.1185110\ttotal: 8m 56s\tremaining: 23m 26s\n",
      "276:\tlearn: 0.1184995\ttotal: 8m 58s\tremaining: 23m 24s\n",
      "277:\tlearn: 0.1184814\ttotal: 9m\tremaining: 23m 22s\n",
      "278:\tlearn: 0.1184703\ttotal: 9m 2s\tremaining: 23m 20s\n",
      "279:\tlearn: 0.1184530\ttotal: 9m 3s\tremaining: 23m 18s\n",
      "280:\tlearn: 0.1184333\ttotal: 9m 5s\tremaining: 23m 16s\n",
      "281:\tlearn: 0.1184238\ttotal: 9m 7s\tremaining: 23m 14s\n",
      "282:\tlearn: 0.1184008\ttotal: 9m 9s\tremaining: 23m 12s\n",
      "283:\tlearn: 0.1183784\ttotal: 9m 11s\tremaining: 23m 10s\n",
      "284:\tlearn: 0.1183582\ttotal: 9m 13s\tremaining: 23m 8s\n",
      "285:\tlearn: 0.1183441\ttotal: 9m 15s\tremaining: 23m 6s\n",
      "286:\tlearn: 0.1183331\ttotal: 9m 17s\tremaining: 23m 4s\n",
      "287:\tlearn: 0.1183120\ttotal: 9m 19s\tremaining: 23m 2s\n",
      "288:\tlearn: 0.1182988\ttotal: 9m 21s\tremaining: 23m\n",
      "289:\tlearn: 0.1182880\ttotal: 9m 23s\tremaining: 22m 58s\n",
      "290:\tlearn: 0.1182667\ttotal: 9m 25s\tremaining: 22m 56s\n",
      "291:\tlearn: 0.1182607\ttotal: 9m 27s\tremaining: 22m 54s\n",
      "292:\tlearn: 0.1182538\ttotal: 9m 28s\tremaining: 22m 52s\n",
      "293:\tlearn: 0.1182399\ttotal: 9m 30s\tremaining: 22m 50s\n",
      "294:\tlearn: 0.1182320\ttotal: 9m 32s\tremaining: 22m 48s\n",
      "295:\tlearn: 0.1182210\ttotal: 9m 34s\tremaining: 22m 47s\n",
      "296:\tlearn: 0.1182083\ttotal: 9m 36s\tremaining: 22m 45s\n",
      "297:\tlearn: 0.1181923\ttotal: 9m 38s\tremaining: 22m 43s\n",
      "298:\tlearn: 0.1181810\ttotal: 9m 40s\tremaining: 22m 41s\n",
      "299:\tlearn: 0.1181716\ttotal: 9m 42s\tremaining: 22m 39s\n",
      "300:\tlearn: 0.1181584\ttotal: 9m 44s\tremaining: 22m 37s\n",
      "301:\tlearn: 0.1181468\ttotal: 9m 46s\tremaining: 22m 35s\n",
      "302:\tlearn: 0.1181329\ttotal: 9m 48s\tremaining: 22m 33s\n",
      "303:\tlearn: 0.1181237\ttotal: 9m 50s\tremaining: 22m 31s\n",
      "304:\tlearn: 0.1181153\ttotal: 9m 52s\tremaining: 22m 29s\n",
      "305:\tlearn: 0.1181080\ttotal: 9m 54s\tremaining: 22m 27s\n",
      "306:\tlearn: 0.1180927\ttotal: 9m 56s\tremaining: 22m 25s\n",
      "307:\tlearn: 0.1180757\ttotal: 9m 57s\tremaining: 22m 23s\n",
      "308:\tlearn: 0.1180619\ttotal: 9m 59s\tremaining: 22m 21s\n",
      "309:\tlearn: 0.1180550\ttotal: 10m 1s\tremaining: 22m 19s\n",
      "310:\tlearn: 0.1180423\ttotal: 10m 3s\tremaining: 22m 17s\n",
      "311:\tlearn: 0.1180316\ttotal: 10m 5s\tremaining: 22m 15s\n",
      "312:\tlearn: 0.1180128\ttotal: 10m 7s\tremaining: 22m 13s\n",
      "313:\tlearn: 0.1179970\ttotal: 10m 9s\tremaining: 22m 11s\n",
      "314:\tlearn: 0.1179891\ttotal: 10m 11s\tremaining: 22m 9s\n",
      "315:\tlearn: 0.1179796\ttotal: 10m 13s\tremaining: 22m 7s\n",
      "316:\tlearn: 0.1179663\ttotal: 10m 15s\tremaining: 22m 5s\n",
      "317:\tlearn: 0.1179540\ttotal: 10m 17s\tremaining: 22m 4s\n",
      "318:\tlearn: 0.1179458\ttotal: 10m 19s\tremaining: 22m 2s\n",
      "319:\tlearn: 0.1179311\ttotal: 10m 21s\tremaining: 22m\n",
      "320:\tlearn: 0.1179232\ttotal: 10m 23s\tremaining: 21m 58s\n",
      "321:\tlearn: 0.1179120\ttotal: 10m 25s\tremaining: 21m 56s\n",
      "322:\tlearn: 0.1179057\ttotal: 10m 27s\tremaining: 21m 54s\n",
      "323:\tlearn: 0.1178971\ttotal: 10m 29s\tremaining: 21m 53s\n",
      "324:\tlearn: 0.1178859\ttotal: 10m 31s\tremaining: 21m 51s\n",
      "325:\tlearn: 0.1178736\ttotal: 10m 33s\tremaining: 21m 49s\n",
      "326:\tlearn: 0.1178642\ttotal: 10m 35s\tremaining: 21m 47s\n",
      "327:\tlearn: 0.1178481\ttotal: 10m 36s\tremaining: 21m 45s\n",
      "328:\tlearn: 0.1178414\ttotal: 10m 38s\tremaining: 21m 43s\n",
      "329:\tlearn: 0.1178268\ttotal: 10m 40s\tremaining: 21m 41s\n",
      "330:\tlearn: 0.1178121\ttotal: 10m 42s\tremaining: 21m 39s\n",
      "331:\tlearn: 0.1177961\ttotal: 10m 44s\tremaining: 21m 37s\n",
      "332:\tlearn: 0.1177870\ttotal: 10m 46s\tremaining: 21m 35s\n",
      "333:\tlearn: 0.1177826\ttotal: 10m 48s\tremaining: 21m 33s\n",
      "334:\tlearn: 0.1177724\ttotal: 10m 50s\tremaining: 21m 31s\n",
      "335:\tlearn: 0.1177664\ttotal: 10m 52s\tremaining: 21m 29s\n",
      "336:\tlearn: 0.1177566\ttotal: 10m 54s\tremaining: 21m 27s\n",
      "337:\tlearn: 0.1177491\ttotal: 10m 56s\tremaining: 21m 25s\n",
      "338:\tlearn: 0.1177394\ttotal: 10m 58s\tremaining: 21m 23s\n",
      "339:\tlearn: 0.1177326\ttotal: 11m\tremaining: 21m 21s\n",
      "340:\tlearn: 0.1177202\ttotal: 11m 2s\tremaining: 21m 19s\n",
      "341:\tlearn: 0.1177132\ttotal: 11m 3s\tremaining: 21m 17s\n",
      "342:\tlearn: 0.1176989\ttotal: 11m 5s\tremaining: 21m 15s\n",
      "343:\tlearn: 0.1176960\ttotal: 11m 7s\tremaining: 21m 13s\n",
      "344:\tlearn: 0.1176871\ttotal: 11m 9s\tremaining: 21m 11s\n",
      "345:\tlearn: 0.1176802\ttotal: 11m 11s\tremaining: 21m 9s\n",
      "346:\tlearn: 0.1176650\ttotal: 11m 13s\tremaining: 21m 7s\n",
      "347:\tlearn: 0.1176528\ttotal: 11m 15s\tremaining: 21m 5s\n",
      "348:\tlearn: 0.1176465\ttotal: 11m 17s\tremaining: 21m 3s\n",
      "349:\tlearn: 0.1176378\ttotal: 11m 19s\tremaining: 21m 1s\n",
      "350:\tlearn: 0.1176271\ttotal: 11m 21s\tremaining: 20m 59s\n",
      "351:\tlearn: 0.1176185\ttotal: 11m 23s\tremaining: 20m 57s\n",
      "352:\tlearn: 0.1176080\ttotal: 11m 25s\tremaining: 20m 55s\n",
      "353:\tlearn: 0.1176028\ttotal: 11m 27s\tremaining: 20m 53s\n",
      "354:\tlearn: 0.1175979\ttotal: 11m 28s\tremaining: 20m 51s\n",
      "355:\tlearn: 0.1175902\ttotal: 11m 30s\tremaining: 20m 49s\n",
      "356:\tlearn: 0.1175836\ttotal: 11m 32s\tremaining: 20m 47s\n",
      "357:\tlearn: 0.1175744\ttotal: 11m 34s\tremaining: 20m 45s\n",
      "358:\tlearn: 0.1175667\ttotal: 11m 36s\tremaining: 20m 43s\n",
      "359:\tlearn: 0.1175540\ttotal: 11m 38s\tremaining: 20m 42s\n",
      "360:\tlearn: 0.1175496\ttotal: 11m 40s\tremaining: 20m 40s\n",
      "361:\tlearn: 0.1175413\ttotal: 11m 42s\tremaining: 20m 38s\n",
      "362:\tlearn: 0.1175336\ttotal: 11m 44s\tremaining: 20m 36s\n",
      "363:\tlearn: 0.1175297\ttotal: 11m 46s\tremaining: 20m 34s\n",
      "364:\tlearn: 0.1175193\ttotal: 11m 48s\tremaining: 20m 32s\n",
      "365:\tlearn: 0.1175119\ttotal: 11m 50s\tremaining: 20m 30s\n",
      "366:\tlearn: 0.1175033\ttotal: 11m 52s\tremaining: 20m 28s\n",
      "367:\tlearn: 0.1174980\ttotal: 11m 54s\tremaining: 20m 26s\n",
      "368:\tlearn: 0.1174923\ttotal: 11m 56s\tremaining: 20m 24s\n",
      "369:\tlearn: 0.1174854\ttotal: 11m 57s\tremaining: 20m 22s\n",
      "370:\tlearn: 0.1174785\ttotal: 11m 59s\tremaining: 20m 20s\n",
      "371:\tlearn: 0.1174737\ttotal: 12m 1s\tremaining: 20m 18s\n",
      "372:\tlearn: 0.1174698\ttotal: 12m 3s\tremaining: 20m 16s\n",
      "373:\tlearn: 0.1174618\ttotal: 12m 5s\tremaining: 20m 14s\n",
      "374:\tlearn: 0.1174554\ttotal: 12m 7s\tremaining: 20m 12s\n",
      "375:\tlearn: 0.1174499\ttotal: 12m 9s\tremaining: 20m 10s\n",
      "376:\tlearn: 0.1174468\ttotal: 12m 11s\tremaining: 20m 8s\n",
      "377:\tlearn: 0.1174428\ttotal: 12m 13s\tremaining: 20m 6s\n",
      "378:\tlearn: 0.1174369\ttotal: 12m 15s\tremaining: 20m 4s\n",
      "379:\tlearn: 0.1174289\ttotal: 12m 17s\tremaining: 20m 2s\n",
      "380:\tlearn: 0.1174229\ttotal: 12m 19s\tremaining: 20m\n",
      "381:\tlearn: 0.1174137\ttotal: 12m 21s\tremaining: 19m 59s\n",
      "382:\tlearn: 0.1174039\ttotal: 12m 23s\tremaining: 19m 57s\n",
      "383:\tlearn: 0.1174014\ttotal: 12m 25s\tremaining: 19m 55s\n",
      "384:\tlearn: 0.1173986\ttotal: 12m 27s\tremaining: 19m 53s\n",
      "385:\tlearn: 0.1173962\ttotal: 12m 29s\tremaining: 19m 51s\n",
      "386:\tlearn: 0.1173930\ttotal: 12m 31s\tremaining: 19m 49s\n",
      "387:\tlearn: 0.1173802\ttotal: 12m 33s\tremaining: 19m 48s\n",
      "388:\tlearn: 0.1173760\ttotal: 12m 35s\tremaining: 19m 46s\n",
      "389:\tlearn: 0.1173701\ttotal: 12m 37s\tremaining: 19m 44s\n",
      "390:\tlearn: 0.1173646\ttotal: 12m 39s\tremaining: 19m 42s\n",
      "391:\tlearn: 0.1173619\ttotal: 12m 41s\tremaining: 19m 40s\n",
      "392:\tlearn: 0.1173557\ttotal: 12m 43s\tremaining: 19m 38s\n",
      "393:\tlearn: 0.1173527\ttotal: 12m 45s\tremaining: 19m 36s\n",
      "394:\tlearn: 0.1173491\ttotal: 12m 47s\tremaining: 19m 34s\n",
      "395:\tlearn: 0.1173435\ttotal: 12m 49s\tremaining: 19m 32s\n",
      "396:\tlearn: 0.1173359\ttotal: 12m 50s\tremaining: 19m 31s\n",
      "397:\tlearn: 0.1173328\ttotal: 12m 52s\tremaining: 19m 29s\n",
      "398:\tlearn: 0.1173285\ttotal: 12m 55s\tremaining: 19m 27s\n",
      "399:\tlearn: 0.1173256\ttotal: 12m 57s\tremaining: 19m 25s\n",
      "400:\tlearn: 0.1173194\ttotal: 12m 59s\tremaining: 19m 23s\n",
      "401:\tlearn: 0.1173142\ttotal: 13m 1s\tremaining: 19m 21s\n",
      "402:\tlearn: 0.1173054\ttotal: 13m 3s\tremaining: 19m 19s\n",
      "403:\tlearn: 0.1172989\ttotal: 13m 5s\tremaining: 19m 18s\n",
      "404:\tlearn: 0.1172950\ttotal: 13m 6s\tremaining: 19m 16s\n",
      "405:\tlearn: 0.1172905\ttotal: 13m 8s\tremaining: 19m 14s\n",
      "406:\tlearn: 0.1172868\ttotal: 13m 11s\tremaining: 19m 12s\n",
      "407:\tlearn: 0.1172833\ttotal: 13m 13s\tremaining: 19m 10s\n",
      "408:\tlearn: 0.1172774\ttotal: 13m 15s\tremaining: 19m 8s\n",
      "409:\tlearn: 0.1172744\ttotal: 13m 17s\tremaining: 19m 6s\n",
      "410:\tlearn: 0.1172716\ttotal: 13m 18s\tremaining: 19m 5s\n",
      "411:\tlearn: 0.1172668\ttotal: 13m 20s\tremaining: 19m 3s\n",
      "412:\tlearn: 0.1172614\ttotal: 13m 22s\tremaining: 19m 1s\n",
      "413:\tlearn: 0.1172556\ttotal: 13m 24s\tremaining: 18m 59s\n",
      "414:\tlearn: 0.1172531\ttotal: 13m 26s\tremaining: 18m 57s\n",
      "415:\tlearn: 0.1172474\ttotal: 13m 28s\tremaining: 18m 55s\n",
      "416:\tlearn: 0.1172423\ttotal: 13m 30s\tremaining: 18m 53s\n",
      "417:\tlearn: 0.1172394\ttotal: 13m 32s\tremaining: 18m 51s\n",
      "418:\tlearn: 0.1172323\ttotal: 13m 34s\tremaining: 18m 49s\n",
      "419:\tlearn: 0.1172288\ttotal: 13m 36s\tremaining: 18m 47s\n",
      "420:\tlearn: 0.1172128\ttotal: 13m 38s\tremaining: 18m 46s\n",
      "421:\tlearn: 0.1172055\ttotal: 13m 40s\tremaining: 18m 44s\n",
      "422:\tlearn: 0.1171964\ttotal: 13m 42s\tremaining: 18m 42s\n",
      "423:\tlearn: 0.1171923\ttotal: 13m 45s\tremaining: 18m 41s\n",
      "424:\tlearn: 0.1171855\ttotal: 13m 47s\tremaining: 18m 39s\n",
      "425:\tlearn: 0.1171764\ttotal: 13m 49s\tremaining: 18m 37s\n",
      "426:\tlearn: 0.1171736\ttotal: 13m 51s\tremaining: 18m 36s\n",
      "427:\tlearn: 0.1171695\ttotal: 13m 54s\tremaining: 18m 34s\n",
      "428:\tlearn: 0.1171663\ttotal: 13m 56s\tremaining: 18m 33s\n",
      "429:\tlearn: 0.1171638\ttotal: 13m 58s\tremaining: 18m 31s\n",
      "430:\tlearn: 0.1171621\ttotal: 14m\tremaining: 18m 29s\n",
      "431:\tlearn: 0.1171611\ttotal: 14m 2s\tremaining: 18m 28s\n",
      "432:\tlearn: 0.1171608\ttotal: 14m 5s\tremaining: 18m 26s\n",
      "433:\tlearn: 0.1171533\ttotal: 14m 7s\tremaining: 18m 25s\n",
      "434:\tlearn: 0.1171480\ttotal: 14m 9s\tremaining: 18m 23s\n",
      "435:\tlearn: 0.1171448\ttotal: 14m 12s\tremaining: 18m 22s\n",
      "436:\tlearn: 0.1171415\ttotal: 14m 14s\tremaining: 18m 21s\n",
      "437:\tlearn: 0.1171384\ttotal: 14m 16s\tremaining: 18m 19s\n",
      "438:\tlearn: 0.1171343\ttotal: 14m 19s\tremaining: 18m 18s\n",
      "439:\tlearn: 0.1171294\ttotal: 14m 21s\tremaining: 18m 16s\n",
      "440:\tlearn: 0.1171291\ttotal: 14m 24s\tremaining: 18m 15s\n",
      "441:\tlearn: 0.1171273\ttotal: 14m 26s\tremaining: 18m 13s\n",
      "442:\tlearn: 0.1171258\ttotal: 14m 28s\tremaining: 18m 12s\n",
      "443:\tlearn: 0.1171210\ttotal: 14m 30s\tremaining: 18m 10s\n",
      "444:\tlearn: 0.1171145\ttotal: 14m 32s\tremaining: 18m 8s\n",
      "445:\tlearn: 0.1171101\ttotal: 14m 35s\tremaining: 18m 6s\n",
      "446:\tlearn: 0.1171063\ttotal: 14m 37s\tremaining: 18m 5s\n",
      "447:\tlearn: 0.1171004\ttotal: 14m 39s\tremaining: 18m 3s\n",
      "448:\tlearn: 0.1170935\ttotal: 14m 41s\tremaining: 18m 2s\n",
      "449:\tlearn: 0.1170912\ttotal: 14m 44s\tremaining: 18m\n",
      "450:\tlearn: 0.1170885\ttotal: 14m 46s\tremaining: 17m 59s\n",
      "451:\tlearn: 0.1170853\ttotal: 14m 49s\tremaining: 17m 58s\n",
      "452:\tlearn: 0.1170839\ttotal: 14m 51s\tremaining: 17m 56s\n",
      "453:\tlearn: 0.1170783\ttotal: 14m 54s\tremaining: 17m 55s\n",
      "454:\tlearn: 0.1170747\ttotal: 14m 56s\tremaining: 17m 54s\n",
      "455:\tlearn: 0.1170708\ttotal: 14m 59s\tremaining: 17m 52s\n",
      "456:\tlearn: 0.1170696\ttotal: 15m 1s\tremaining: 17m 51s\n",
      "457:\tlearn: 0.1170633\ttotal: 15m 4s\tremaining: 17m 50s\n",
      "458:\tlearn: 0.1170581\ttotal: 15m 6s\tremaining: 17m 48s\n",
      "459:\tlearn: 0.1170526\ttotal: 15m 8s\tremaining: 17m 46s\n",
      "460:\tlearn: 0.1170499\ttotal: 15m 11s\tremaining: 17m 45s\n",
      "461:\tlearn: 0.1170460\ttotal: 15m 13s\tremaining: 17m 43s\n",
      "462:\tlearn: 0.1170436\ttotal: 15m 16s\tremaining: 17m 42s\n",
      "463:\tlearn: 0.1170390\ttotal: 15m 18s\tremaining: 17m 41s\n",
      "464:\tlearn: 0.1170369\ttotal: 15m 21s\tremaining: 17m 40s\n",
      "465:\tlearn: 0.1170322\ttotal: 15m 24s\tremaining: 17m 39s\n",
      "466:\tlearn: 0.1170311\ttotal: 15m 26s\tremaining: 17m 37s\n",
      "467:\tlearn: 0.1170266\ttotal: 15m 29s\tremaining: 17m 36s\n",
      "468:\tlearn: 0.1170223\ttotal: 15m 31s\tremaining: 17m 34s\n",
      "469:\tlearn: 0.1170188\ttotal: 15m 33s\tremaining: 17m 32s\n",
      "470:\tlearn: 0.1170124\ttotal: 15m 36s\tremaining: 17m 31s\n",
      "471:\tlearn: 0.1170076\ttotal: 15m 38s\tremaining: 17m 29s\n",
      "472:\tlearn: 0.1170030\ttotal: 15m 41s\tremaining: 17m 28s\n",
      "473:\tlearn: 0.1170015\ttotal: 15m 43s\tremaining: 17m 26s\n",
      "474:\tlearn: 0.1169970\ttotal: 15m 45s\tremaining: 17m 25s\n",
      "475:\tlearn: 0.1169899\ttotal: 15m 47s\tremaining: 17m 23s\n",
      "476:\tlearn: 0.1169861\ttotal: 15m 49s\tremaining: 17m 21s\n",
      "477:\tlearn: 0.1169851\ttotal: 15m 52s\tremaining: 17m 19s\n",
      "478:\tlearn: 0.1169809\ttotal: 15m 54s\tremaining: 17m 18s\n",
      "479:\tlearn: 0.1169777\ttotal: 15m 56s\tremaining: 17m 16s\n",
      "480:\tlearn: 0.1169769\ttotal: 15m 58s\tremaining: 17m 14s\n",
      "481:\tlearn: 0.1169753\ttotal: 16m 1s\tremaining: 17m 13s\n",
      "482:\tlearn: 0.1169734\ttotal: 16m 3s\tremaining: 17m 11s\n",
      "483:\tlearn: 0.1169721\ttotal: 16m 6s\tremaining: 17m 10s\n",
      "484:\tlearn: 0.1169678\ttotal: 16m 8s\tremaining: 17m 8s\n",
      "485:\tlearn: 0.1169630\ttotal: 16m 10s\tremaining: 17m 6s\n",
      "486:\tlearn: 0.1169557\ttotal: 16m 12s\tremaining: 17m 4s\n",
      "487:\tlearn: 0.1169528\ttotal: 16m 14s\tremaining: 17m 2s\n",
      "488:\tlearn: 0.1169506\ttotal: 16m 16s\tremaining: 17m\n",
      "489:\tlearn: 0.1169481\ttotal: 16m 18s\tremaining: 16m 58s\n",
      "490:\tlearn: 0.1169470\ttotal: 16m 20s\tremaining: 16m 56s\n",
      "491:\tlearn: 0.1169450\ttotal: 16m 22s\tremaining: 16m 54s\n",
      "492:\tlearn: 0.1169429\ttotal: 16m 24s\tremaining: 16m 52s\n",
      "493:\tlearn: 0.1169374\ttotal: 16m 26s\tremaining: 16m 50s\n",
      "494:\tlearn: 0.1169358\ttotal: 16m 28s\tremaining: 16m 48s\n",
      "495:\tlearn: 0.1169340\ttotal: 16m 30s\tremaining: 16m 46s\n",
      "496:\tlearn: 0.1169298\ttotal: 16m 32s\tremaining: 16m 44s\n",
      "497:\tlearn: 0.1169286\ttotal: 16m 34s\tremaining: 16m 42s\n",
      "498:\tlearn: 0.1169254\ttotal: 16m 36s\tremaining: 16m 40s\n",
      "499:\tlearn: 0.1169246\ttotal: 16m 38s\tremaining: 16m 38s\n",
      "500:\tlearn: 0.1169215\ttotal: 16m 40s\tremaining: 16m 36s\n",
      "501:\tlearn: 0.1169180\ttotal: 16m 42s\tremaining: 16m 34s\n",
      "502:\tlearn: 0.1169122\ttotal: 16m 44s\tremaining: 16m 32s\n",
      "503:\tlearn: 0.1169068\ttotal: 16m 46s\tremaining: 16m 30s\n",
      "504:\tlearn: 0.1169056\ttotal: 16m 48s\tremaining: 16m 28s\n",
      "505:\tlearn: 0.1169041\ttotal: 16m 50s\tremaining: 16m 26s\n",
      "506:\tlearn: 0.1168993\ttotal: 16m 52s\tremaining: 16m 24s\n",
      "507:\tlearn: 0.1168971\ttotal: 16m 54s\tremaining: 16m 22s\n",
      "508:\tlearn: 0.1168956\ttotal: 16m 56s\tremaining: 16m 20s\n",
      "509:\tlearn: 0.1168908\ttotal: 16m 59s\tremaining: 16m 19s\n",
      "510:\tlearn: 0.1168865\ttotal: 17m 1s\tremaining: 16m 17s\n",
      "511:\tlearn: 0.1168817\ttotal: 17m 3s\tremaining: 16m 15s\n",
      "512:\tlearn: 0.1168795\ttotal: 17m 5s\tremaining: 16m 13s\n",
      "513:\tlearn: 0.1168754\ttotal: 17m 7s\tremaining: 16m 11s\n",
      "514:\tlearn: 0.1168759\ttotal: 17m 9s\tremaining: 16m 9s\n",
      "515:\tlearn: 0.1168749\ttotal: 17m 11s\tremaining: 16m 7s\n",
      "516:\tlearn: 0.1168700\ttotal: 17m 13s\tremaining: 16m 5s\n",
      "517:\tlearn: 0.1168667\ttotal: 17m 15s\tremaining: 16m 3s\n",
      "518:\tlearn: 0.1168655\ttotal: 17m 17s\tremaining: 16m 1s\n",
      "519:\tlearn: 0.1168655\ttotal: 17m 19s\tremaining: 15m 59s\n",
      "520:\tlearn: 0.1168650\ttotal: 17m 21s\tremaining: 15m 57s\n",
      "521:\tlearn: 0.1168637\ttotal: 17m 24s\tremaining: 15m 56s\n",
      "522:\tlearn: 0.1168615\ttotal: 17m 26s\tremaining: 15m 54s\n",
      "523:\tlearn: 0.1168597\ttotal: 17m 28s\tremaining: 15m 52s\n",
      "524:\tlearn: 0.1168582\ttotal: 17m 30s\tremaining: 15m 50s\n",
      "525:\tlearn: 0.1168552\ttotal: 17m 32s\tremaining: 15m 48s\n",
      "526:\tlearn: 0.1168516\ttotal: 17m 34s\tremaining: 15m 46s\n",
      "527:\tlearn: 0.1168483\ttotal: 17m 37s\tremaining: 15m 44s\n",
      "528:\tlearn: 0.1168455\ttotal: 17m 39s\tremaining: 15m 43s\n",
      "529:\tlearn: 0.1168449\ttotal: 17m 41s\tremaining: 15m 41s\n",
      "530:\tlearn: 0.1168412\ttotal: 17m 43s\tremaining: 15m 39s\n",
      "531:\tlearn: 0.1168395\ttotal: 17m 46s\tremaining: 15m 37s\n",
      "532:\tlearn: 0.1168382\ttotal: 17m 48s\tremaining: 15m 36s\n",
      "533:\tlearn: 0.1168364\ttotal: 17m 51s\tremaining: 15m 34s\n",
      "534:\tlearn: 0.1168321\ttotal: 17m 53s\tremaining: 15m 32s\n",
      "535:\tlearn: 0.1168314\ttotal: 17m 55s\tremaining: 15m 31s\n",
      "536:\tlearn: 0.1168313\ttotal: 17m 57s\tremaining: 15m 29s\n",
      "537:\tlearn: 0.1168241\ttotal: 17m 59s\tremaining: 15m 27s\n",
      "538:\tlearn: 0.1168182\ttotal: 18m 2s\tremaining: 15m 25s\n",
      "539:\tlearn: 0.1168156\ttotal: 18m 4s\tremaining: 15m 23s\n",
      "540:\tlearn: 0.1168102\ttotal: 18m 6s\tremaining: 15m 21s\n",
      "541:\tlearn: 0.1168045\ttotal: 18m 8s\tremaining: 15m 19s\n",
      "542:\tlearn: 0.1168024\ttotal: 18m 10s\tremaining: 15m 17s\n",
      "543:\tlearn: 0.1168007\ttotal: 18m 12s\tremaining: 15m 15s\n",
      "544:\tlearn: 0.1168001\ttotal: 18m 14s\tremaining: 15m 13s\n",
      "545:\tlearn: 0.1167993\ttotal: 18m 16s\tremaining: 15m 12s\n",
      "546:\tlearn: 0.1167971\ttotal: 18m 19s\tremaining: 15m 10s\n",
      "547:\tlearn: 0.1167937\ttotal: 18m 22s\tremaining: 15m 9s\n",
      "548:\tlearn: 0.1167909\ttotal: 18m 24s\tremaining: 15m 7s\n",
      "549:\tlearn: 0.1167881\ttotal: 18m 27s\tremaining: 15m 5s\n",
      "550:\tlearn: 0.1167840\ttotal: 18m 29s\tremaining: 15m 4s\n",
      "551:\tlearn: 0.1167783\ttotal: 18m 32s\tremaining: 15m 2s\n",
      "552:\tlearn: 0.1167745\ttotal: 18m 35s\tremaining: 15m 1s\n",
      "553:\tlearn: 0.1167690\ttotal: 18m 37s\tremaining: 14m 59s\n",
      "554:\tlearn: 0.1167653\ttotal: 18m 39s\tremaining: 14m 57s\n",
      "555:\tlearn: 0.1167645\ttotal: 18m 41s\tremaining: 14m 55s\n",
      "556:\tlearn: 0.1167630\ttotal: 18m 43s\tremaining: 14m 53s\n",
      "557:\tlearn: 0.1167620\ttotal: 18m 45s\tremaining: 14m 51s\n",
      "558:\tlearn: 0.1167606\ttotal: 18m 48s\tremaining: 14m 50s\n",
      "559:\tlearn: 0.1167560\ttotal: 18m 50s\tremaining: 14m 48s\n",
      "560:\tlearn: 0.1167515\ttotal: 18m 52s\tremaining: 14m 46s\n",
      "561:\tlearn: 0.1167485\ttotal: 18m 55s\tremaining: 14m 44s\n",
      "562:\tlearn: 0.1167450\ttotal: 18m 57s\tremaining: 14m 42s\n",
      "563:\tlearn: 0.1167443\ttotal: 18m 59s\tremaining: 14m 40s\n",
      "564:\tlearn: 0.1167422\ttotal: 19m 1s\tremaining: 14m 39s\n",
      "565:\tlearn: 0.1167380\ttotal: 19m 3s\tremaining: 14m 37s\n",
      "566:\tlearn: 0.1167361\ttotal: 19m 6s\tremaining: 14m 35s\n",
      "567:\tlearn: 0.1167350\ttotal: 19m 8s\tremaining: 14m 33s\n",
      "568:\tlearn: 0.1167339\ttotal: 19m 10s\tremaining: 14m 31s\n",
      "569:\tlearn: 0.1167330\ttotal: 19m 12s\tremaining: 14m 29s\n",
      "570:\tlearn: 0.1167324\ttotal: 19m 14s\tremaining: 14m 27s\n",
      "571:\tlearn: 0.1167295\ttotal: 19m 16s\tremaining: 14m 25s\n",
      "572:\tlearn: 0.1167265\ttotal: 19m 19s\tremaining: 14m 23s\n",
      "573:\tlearn: 0.1167263\ttotal: 19m 21s\tremaining: 14m 21s\n",
      "574:\tlearn: 0.1167227\ttotal: 19m 23s\tremaining: 14m 19s\n",
      "575:\tlearn: 0.1167216\ttotal: 19m 25s\tremaining: 14m 17s\n",
      "576:\tlearn: 0.1167189\ttotal: 19m 27s\tremaining: 14m 15s\n",
      "577:\tlearn: 0.1167146\ttotal: 19m 29s\tremaining: 14m 13s\n",
      "578:\tlearn: 0.1167110\ttotal: 19m 30s\tremaining: 14m 11s\n",
      "579:\tlearn: 0.1167101\ttotal: 19m 32s\tremaining: 14m 9s\n",
      "580:\tlearn: 0.1167077\ttotal: 19m 35s\tremaining: 14m 7s\n",
      "581:\tlearn: 0.1167043\ttotal: 19m 37s\tremaining: 14m 5s\n",
      "582:\tlearn: 0.1167027\ttotal: 19m 39s\tremaining: 14m 3s\n",
      "583:\tlearn: 0.1166996\ttotal: 19m 41s\tremaining: 14m 1s\n",
      "584:\tlearn: 0.1166990\ttotal: 19m 43s\tremaining: 13m 59s\n",
      "585:\tlearn: 0.1166973\ttotal: 19m 45s\tremaining: 13m 57s\n",
      "586:\tlearn: 0.1166956\ttotal: 19m 47s\tremaining: 13m 55s\n",
      "587:\tlearn: 0.1166915\ttotal: 19m 49s\tremaining: 13m 53s\n",
      "588:\tlearn: 0.1166895\ttotal: 19m 51s\tremaining: 13m 51s\n",
      "589:\tlearn: 0.1166891\ttotal: 19m 53s\tremaining: 13m 49s\n",
      "590:\tlearn: 0.1166864\ttotal: 19m 55s\tremaining: 13m 47s\n",
      "591:\tlearn: 0.1166826\ttotal: 19m 57s\tremaining: 13m 45s\n",
      "592:\tlearn: 0.1166801\ttotal: 19m 59s\tremaining: 13m 43s\n",
      "593:\tlearn: 0.1166764\ttotal: 20m 2s\tremaining: 13m 41s\n",
      "594:\tlearn: 0.1166756\ttotal: 20m 4s\tremaining: 13m 39s\n",
      "595:\tlearn: 0.1166727\ttotal: 20m 6s\tremaining: 13m 37s\n",
      "596:\tlearn: 0.1166681\ttotal: 20m 8s\tremaining: 13m 35s\n",
      "597:\tlearn: 0.1166679\ttotal: 20m 10s\tremaining: 13m 33s\n",
      "598:\tlearn: 0.1166673\ttotal: 20m 12s\tremaining: 13m 31s\n",
      "599:\tlearn: 0.1166672\ttotal: 20m 14s\tremaining: 13m 29s\n",
      "600:\tlearn: 0.1166626\ttotal: 20m 16s\tremaining: 13m 27s\n",
      "601:\tlearn: 0.1166608\ttotal: 20m 18s\tremaining: 13m 25s\n",
      "602:\tlearn: 0.1166590\ttotal: 20m 20s\tremaining: 13m 23s\n",
      "603:\tlearn: 0.1166590\ttotal: 20m 22s\tremaining: 13m 21s\n",
      "604:\tlearn: 0.1166580\ttotal: 20m 24s\tremaining: 13m 19s\n",
      "605:\tlearn: 0.1166582\ttotal: 20m 26s\tremaining: 13m 17s\n",
      "606:\tlearn: 0.1166566\ttotal: 20m 28s\tremaining: 13m 15s\n",
      "607:\tlearn: 0.1166531\ttotal: 20m 30s\tremaining: 13m 13s\n",
      "608:\tlearn: 0.1166510\ttotal: 20m 32s\tremaining: 13m 11s\n",
      "609:\tlearn: 0.1166498\ttotal: 20m 34s\tremaining: 13m 9s\n",
      "610:\tlearn: 0.1166458\ttotal: 20m 36s\tremaining: 13m 7s\n",
      "611:\tlearn: 0.1166444\ttotal: 20m 39s\tremaining: 13m 5s\n",
      "612:\tlearn: 0.1166436\ttotal: 20m 41s\tremaining: 13m 3s\n",
      "613:\tlearn: 0.1166415\ttotal: 20m 43s\tremaining: 13m 1s\n",
      "614:\tlearn: 0.1166398\ttotal: 20m 45s\tremaining: 12m 59s\n",
      "615:\tlearn: 0.1166375\ttotal: 20m 47s\tremaining: 12m 57s\n",
      "616:\tlearn: 0.1166372\ttotal: 20m 50s\tremaining: 12m 55s\n",
      "617:\tlearn: 0.1166353\ttotal: 20m 52s\tremaining: 12m 54s\n",
      "618:\tlearn: 0.1166350\ttotal: 20m 54s\tremaining: 12m 52s\n",
      "619:\tlearn: 0.1166333\ttotal: 20m 56s\tremaining: 12m 50s\n",
      "620:\tlearn: 0.1166331\ttotal: 20m 58s\tremaining: 12m 48s\n",
      "621:\tlearn: 0.1166292\ttotal: 21m\tremaining: 12m 46s\n",
      "622:\tlearn: 0.1166280\ttotal: 21m 3s\tremaining: 12m 44s\n",
      "623:\tlearn: 0.1166280\ttotal: 21m 5s\tremaining: 12m 42s\n",
      "624:\tlearn: 0.1166261\ttotal: 21m 7s\tremaining: 12m 40s\n",
      "625:\tlearn: 0.1166236\ttotal: 21m 9s\tremaining: 12m 38s\n",
      "626:\tlearn: 0.1166222\ttotal: 21m 11s\tremaining: 12m 36s\n",
      "627:\tlearn: 0.1166219\ttotal: 21m 13s\tremaining: 12m 34s\n",
      "628:\tlearn: 0.1166196\ttotal: 21m 15s\tremaining: 12m 32s\n",
      "629:\tlearn: 0.1166164\ttotal: 21m 18s\tremaining: 12m 30s\n",
      "630:\tlearn: 0.1166166\ttotal: 21m 20s\tremaining: 12m 28s\n",
      "631:\tlearn: 0.1166159\ttotal: 21m 22s\tremaining: 12m 26s\n",
      "632:\tlearn: 0.1166127\ttotal: 21m 24s\tremaining: 12m 24s\n",
      "633:\tlearn: 0.1166120\ttotal: 21m 27s\tremaining: 12m 23s\n",
      "634:\tlearn: 0.1166098\ttotal: 21m 29s\tremaining: 12m 21s\n",
      "635:\tlearn: 0.1166078\ttotal: 21m 32s\tremaining: 12m 19s\n",
      "636:\tlearn: 0.1166045\ttotal: 21m 34s\tremaining: 12m 17s\n",
      "637:\tlearn: 0.1166046\ttotal: 21m 36s\tremaining: 12m 15s\n",
      "638:\tlearn: 0.1166035\ttotal: 21m 38s\tremaining: 12m 13s\n",
      "639:\tlearn: 0.1166013\ttotal: 21m 40s\tremaining: 12m 11s\n",
      "640:\tlearn: 0.1165996\ttotal: 21m 42s\tremaining: 12m 9s\n",
      "641:\tlearn: 0.1165975\ttotal: 21m 44s\tremaining: 12m 7s\n",
      "642:\tlearn: 0.1165954\ttotal: 21m 46s\tremaining: 12m 5s\n",
      "643:\tlearn: 0.1165939\ttotal: 21m 49s\tremaining: 12m 3s\n",
      "644:\tlearn: 0.1165923\ttotal: 21m 52s\tremaining: 12m 2s\n",
      "645:\tlearn: 0.1165889\ttotal: 21m 54s\tremaining: 12m\n",
      "646:\tlearn: 0.1165847\ttotal: 21m 57s\tremaining: 11m 58s\n",
      "647:\tlearn: 0.1165826\ttotal: 21m 59s\tremaining: 11m 56s\n",
      "648:\tlearn: 0.1165819\ttotal: 22m 1s\tremaining: 11m 54s\n",
      "649:\tlearn: 0.1165796\ttotal: 22m 4s\tremaining: 11m 53s\n",
      "650:\tlearn: 0.1165758\ttotal: 22m 6s\tremaining: 11m 51s\n",
      "651:\tlearn: 0.1165746\ttotal: 22m 9s\tremaining: 11m 49s\n",
      "652:\tlearn: 0.1165727\ttotal: 22m 11s\tremaining: 11m 47s\n",
      "653:\tlearn: 0.1165672\ttotal: 22m 14s\tremaining: 11m 45s\n",
      "654:\tlearn: 0.1165662\ttotal: 22m 16s\tremaining: 11m 43s\n",
      "655:\tlearn: 0.1165643\ttotal: 22m 18s\tremaining: 11m 41s\n",
      "656:\tlearn: 0.1165627\ttotal: 22m 20s\tremaining: 11m 39s\n",
      "657:\tlearn: 0.1165603\ttotal: 22m 22s\tremaining: 11m 37s\n",
      "658:\tlearn: 0.1165559\ttotal: 22m 24s\tremaining: 11m 35s\n",
      "659:\tlearn: 0.1165549\ttotal: 22m 27s\tremaining: 11m 33s\n",
      "660:\tlearn: 0.1165537\ttotal: 22m 29s\tremaining: 11m 32s\n",
      "661:\tlearn: 0.1165493\ttotal: 22m 31s\tremaining: 11m 30s\n",
      "662:\tlearn: 0.1165460\ttotal: 22m 33s\tremaining: 11m 28s\n",
      "663:\tlearn: 0.1165449\ttotal: 22m 36s\tremaining: 11m 26s\n",
      "664:\tlearn: 0.1165439\ttotal: 22m 38s\tremaining: 11m 24s\n",
      "665:\tlearn: 0.1165404\ttotal: 22m 41s\tremaining: 11m 22s\n",
      "666:\tlearn: 0.1165378\ttotal: 22m 44s\tremaining: 11m 21s\n",
      "667:\tlearn: 0.1165363\ttotal: 22m 47s\tremaining: 11m 19s\n",
      "668:\tlearn: 0.1165340\ttotal: 22m 49s\tremaining: 11m 17s\n",
      "669:\tlearn: 0.1165332\ttotal: 22m 52s\tremaining: 11m 16s\n",
      "670:\tlearn: 0.1165317\ttotal: 22m 54s\tremaining: 11m 14s\n",
      "671:\tlearn: 0.1165270\ttotal: 22m 56s\tremaining: 11m 11s\n",
      "672:\tlearn: 0.1165264\ttotal: 22m 58s\tremaining: 11m 9s\n",
      "673:\tlearn: 0.1165233\ttotal: 23m\tremaining: 11m 7s\n",
      "674:\tlearn: 0.1165219\ttotal: 23m 2s\tremaining: 11m 5s\n",
      "675:\tlearn: 0.1165210\ttotal: 23m 4s\tremaining: 11m 3s\n",
      "676:\tlearn: 0.1165213\ttotal: 23m 7s\tremaining: 11m 1s\n",
      "677:\tlearn: 0.1165171\ttotal: 23m 9s\tremaining: 10m 59s\n",
      "678:\tlearn: 0.1165134\ttotal: 23m 11s\tremaining: 10m 57s\n",
      "679:\tlearn: 0.1165102\ttotal: 23m 13s\tremaining: 10m 55s\n",
      "680:\tlearn: 0.1165095\ttotal: 23m 15s\tremaining: 10m 53s\n",
      "681:\tlearn: 0.1165050\ttotal: 23m 17s\tremaining: 10m 51s\n",
      "682:\tlearn: 0.1165022\ttotal: 23m 20s\tremaining: 10m 49s\n",
      "683:\tlearn: 0.1164982\ttotal: 23m 22s\tremaining: 10m 47s\n",
      "684:\tlearn: 0.1164949\ttotal: 23m 24s\tremaining: 10m 45s\n",
      "685:\tlearn: 0.1164912\ttotal: 23m 26s\tremaining: 10m 43s\n",
      "686:\tlearn: 0.1164888\ttotal: 23m 28s\tremaining: 10m 41s\n",
      "687:\tlearn: 0.1164864\ttotal: 23m 30s\tremaining: 10m 39s\n",
      "688:\tlearn: 0.1164856\ttotal: 23m 32s\tremaining: 10m 37s\n",
      "689:\tlearn: 0.1164835\ttotal: 23m 34s\tremaining: 10m 35s\n",
      "690:\tlearn: 0.1164792\ttotal: 23m 36s\tremaining: 10m 33s\n",
      "691:\tlearn: 0.1164781\ttotal: 23m 38s\tremaining: 10m 31s\n",
      "692:\tlearn: 0.1164744\ttotal: 23m 41s\tremaining: 10m 29s\n",
      "693:\tlearn: 0.1164740\ttotal: 23m 43s\tremaining: 10m 27s\n",
      "694:\tlearn: 0.1164703\ttotal: 23m 45s\tremaining: 10m 25s\n",
      "695:\tlearn: 0.1164700\ttotal: 23m 47s\tremaining: 10m 23s\n",
      "696:\tlearn: 0.1164688\ttotal: 23m 49s\tremaining: 10m 21s\n",
      "697:\tlearn: 0.1164653\ttotal: 23m 51s\tremaining: 10m 19s\n",
      "698:\tlearn: 0.1164633\ttotal: 23m 53s\tremaining: 10m 17s\n",
      "699:\tlearn: 0.1164615\ttotal: 23m 55s\tremaining: 10m 15s\n",
      "700:\tlearn: 0.1164590\ttotal: 23m 57s\tremaining: 10m 13s\n",
      "701:\tlearn: 0.1164580\ttotal: 23m 59s\tremaining: 10m 11s\n",
      "702:\tlearn: 0.1164572\ttotal: 24m 1s\tremaining: 10m 9s\n",
      "703:\tlearn: 0.1164539\ttotal: 24m 3s\tremaining: 10m 7s\n",
      "704:\tlearn: 0.1164499\ttotal: 24m 5s\tremaining: 10m 5s\n",
      "705:\tlearn: 0.1164484\ttotal: 24m 8s\tremaining: 10m 3s\n",
      "706:\tlearn: 0.1164457\ttotal: 24m 10s\tremaining: 10m\n",
      "707:\tlearn: 0.1164457\ttotal: 24m 12s\tremaining: 9m 58s\n",
      "708:\tlearn: 0.1164419\ttotal: 24m 14s\tremaining: 9m 56s\n",
      "709:\tlearn: 0.1164380\ttotal: 24m 16s\tremaining: 9m 54s\n",
      "710:\tlearn: 0.1164361\ttotal: 24m 18s\tremaining: 9m 52s\n",
      "711:\tlearn: 0.1164323\ttotal: 24m 21s\tremaining: 9m 51s\n",
      "712:\tlearn: 0.1164308\ttotal: 24m 23s\tremaining: 9m 48s\n",
      "713:\tlearn: 0.1164302\ttotal: 24m 25s\tremaining: 9m 46s\n",
      "714:\tlearn: 0.1164295\ttotal: 24m 27s\tremaining: 9m 44s\n",
      "715:\tlearn: 0.1164287\ttotal: 24m 29s\tremaining: 9m 42s\n",
      "716:\tlearn: 0.1164253\ttotal: 24m 31s\tremaining: 9m 40s\n",
      "717:\tlearn: 0.1164222\ttotal: 24m 33s\tremaining: 9m 38s\n",
      "718:\tlearn: 0.1164211\ttotal: 24m 35s\tremaining: 9m 36s\n",
      "719:\tlearn: 0.1164205\ttotal: 24m 37s\tremaining: 9m 34s\n",
      "720:\tlearn: 0.1164194\ttotal: 24m 39s\tremaining: 9m 32s\n",
      "721:\tlearn: 0.1164188\ttotal: 24m 41s\tremaining: 9m 30s\n",
      "722:\tlearn: 0.1164180\ttotal: 24m 43s\tremaining: 9m 28s\n",
      "723:\tlearn: 0.1164180\ttotal: 24m 45s\tremaining: 9m 26s\n",
      "724:\tlearn: 0.1164151\ttotal: 24m 47s\tremaining: 9m 24s\n",
      "725:\tlearn: 0.1164129\ttotal: 24m 49s\tremaining: 9m 22s\n",
      "726:\tlearn: 0.1164107\ttotal: 24m 51s\tremaining: 9m 20s\n",
      "727:\tlearn: 0.1164099\ttotal: 24m 53s\tremaining: 9m 18s\n",
      "728:\tlearn: 0.1164077\ttotal: 24m 56s\tremaining: 9m 16s\n",
      "729:\tlearn: 0.1164042\ttotal: 24m 58s\tremaining: 9m 14s\n",
      "730:\tlearn: 0.1164025\ttotal: 25m\tremaining: 9m 12s\n",
      "731:\tlearn: 0.1164011\ttotal: 25m 2s\tremaining: 9m 10s\n",
      "732:\tlearn: 0.1163973\ttotal: 25m 5s\tremaining: 9m 8s\n",
      "733:\tlearn: 0.1163948\ttotal: 25m 7s\tremaining: 9m 6s\n",
      "734:\tlearn: 0.1163931\ttotal: 25m 9s\tremaining: 9m 4s\n",
      "735:\tlearn: 0.1163919\ttotal: 25m 11s\tremaining: 9m 2s\n",
      "736:\tlearn: 0.1163907\ttotal: 25m 13s\tremaining: 9m\n",
      "737:\tlearn: 0.1163875\ttotal: 25m 15s\tremaining: 8m 58s\n",
      "738:\tlearn: 0.1163863\ttotal: 25m 17s\tremaining: 8m 56s\n",
      "739:\tlearn: 0.1163859\ttotal: 25m 20s\tremaining: 8m 54s\n",
      "740:\tlearn: 0.1163827\ttotal: 25m 22s\tremaining: 8m 52s\n",
      "741:\tlearn: 0.1163823\ttotal: 25m 24s\tremaining: 8m 50s\n",
      "742:\tlearn: 0.1163811\ttotal: 25m 26s\tremaining: 8m 48s\n",
      "743:\tlearn: 0.1163807\ttotal: 25m 28s\tremaining: 8m 45s\n",
      "744:\tlearn: 0.1163788\ttotal: 25m 30s\tremaining: 8m 43s\n",
      "745:\tlearn: 0.1163771\ttotal: 25m 32s\tremaining: 8m 41s\n",
      "746:\tlearn: 0.1163767\ttotal: 25m 34s\tremaining: 8m 39s\n",
      "747:\tlearn: 0.1163745\ttotal: 25m 36s\tremaining: 8m 37s\n",
      "748:\tlearn: 0.1163731\ttotal: 25m 38s\tremaining: 8m 35s\n",
      "749:\tlearn: 0.1163716\ttotal: 25m 40s\tremaining: 8m 33s\n",
      "750:\tlearn: 0.1163716\ttotal: 25m 42s\tremaining: 8m 31s\n",
      "751:\tlearn: 0.1163714\ttotal: 25m 44s\tremaining: 8m 29s\n",
      "752:\tlearn: 0.1163710\ttotal: 25m 46s\tremaining: 8m 27s\n",
      "753:\tlearn: 0.1163704\ttotal: 25m 49s\tremaining: 8m 25s\n",
      "754:\tlearn: 0.1163707\ttotal: 25m 51s\tremaining: 8m 23s\n",
      "755:\tlearn: 0.1163709\ttotal: 25m 53s\tremaining: 8m 21s\n",
      "756:\tlearn: 0.1163692\ttotal: 25m 56s\tremaining: 8m 19s\n",
      "757:\tlearn: 0.1163667\ttotal: 25m 58s\tremaining: 8m 17s\n",
      "758:\tlearn: 0.1163648\ttotal: 26m\tremaining: 8m 15s\n",
      "759:\tlearn: 0.1163637\ttotal: 26m 2s\tremaining: 8m 13s\n",
      "760:\tlearn: 0.1163626\ttotal: 26m 5s\tremaining: 8m 11s\n",
      "761:\tlearn: 0.1163600\ttotal: 26m 7s\tremaining: 8m 9s\n",
      "762:\tlearn: 0.1163576\ttotal: 26m 9s\tremaining: 8m 7s\n",
      "763:\tlearn: 0.1163563\ttotal: 26m 11s\tremaining: 8m 5s\n",
      "764:\tlearn: 0.1163550\ttotal: 26m 13s\tremaining: 8m 3s\n",
      "765:\tlearn: 0.1163546\ttotal: 26m 15s\tremaining: 8m 1s\n",
      "766:\tlearn: 0.1163531\ttotal: 26m 17s\tremaining: 7m 59s\n",
      "767:\tlearn: 0.1163515\ttotal: 26m 19s\tremaining: 7m 57s\n",
      "768:\tlearn: 0.1163509\ttotal: 26m 21s\tremaining: 7m 54s\n",
      "769:\tlearn: 0.1163494\ttotal: 26m 23s\tremaining: 7m 52s\n",
      "770:\tlearn: 0.1163485\ttotal: 26m 25s\tremaining: 7m 50s\n",
      "771:\tlearn: 0.1163457\ttotal: 26m 27s\tremaining: 7m 48s\n",
      "772:\tlearn: 0.1163445\ttotal: 26m 29s\tremaining: 7m 46s\n",
      "773:\tlearn: 0.1163435\ttotal: 26m 31s\tremaining: 7m 44s\n",
      "774:\tlearn: 0.1163415\ttotal: 26m 33s\tremaining: 7m 42s\n",
      "775:\tlearn: 0.1163401\ttotal: 26m 36s\tremaining: 7m 40s\n",
      "776:\tlearn: 0.1163383\ttotal: 26m 38s\tremaining: 7m 38s\n",
      "777:\tlearn: 0.1163364\ttotal: 26m 40s\tremaining: 7m 36s\n",
      "778:\tlearn: 0.1163357\ttotal: 26m 42s\tremaining: 7m 34s\n",
      "779:\tlearn: 0.1163339\ttotal: 26m 44s\tremaining: 7m 32s\n",
      "780:\tlearn: 0.1163329\ttotal: 26m 47s\tremaining: 7m 30s\n",
      "781:\tlearn: 0.1163318\ttotal: 26m 49s\tremaining: 7m 28s\n",
      "782:\tlearn: 0.1163310\ttotal: 26m 51s\tremaining: 7m 26s\n",
      "783:\tlearn: 0.1163294\ttotal: 26m 53s\tremaining: 7m 24s\n",
      "784:\tlearn: 0.1163293\ttotal: 26m 55s\tremaining: 7m 22s\n",
      "785:\tlearn: 0.1163274\ttotal: 26m 58s\tremaining: 7m 20s\n",
      "786:\tlearn: 0.1163273\ttotal: 27m\tremaining: 7m 18s\n",
      "787:\tlearn: 0.1163248\ttotal: 27m 2s\tremaining: 7m 16s\n",
      "788:\tlearn: 0.1163242\ttotal: 27m 5s\tremaining: 7m 14s\n",
      "789:\tlearn: 0.1163239\ttotal: 27m 7s\tremaining: 7m 12s\n",
      "790:\tlearn: 0.1163222\ttotal: 27m 10s\tremaining: 7m 10s\n",
      "791:\tlearn: 0.1163198\ttotal: 27m 12s\tremaining: 7m 8s\n",
      "792:\tlearn: 0.1163186\ttotal: 27m 15s\tremaining: 7m 6s\n",
      "793:\tlearn: 0.1163186\ttotal: 27m 17s\tremaining: 7m 4s\n",
      "794:\tlearn: 0.1163165\ttotal: 27m 20s\tremaining: 7m 2s\n",
      "795:\tlearn: 0.1163166\ttotal: 27m 22s\tremaining: 7m 1s\n",
      "796:\tlearn: 0.1163146\ttotal: 27m 25s\tremaining: 6m 59s\n",
      "797:\tlearn: 0.1163132\ttotal: 27m 27s\tremaining: 6m 57s\n",
      "798:\tlearn: 0.1163131\ttotal: 27m 30s\tremaining: 6m 55s\n",
      "799:\tlearn: 0.1163117\ttotal: 27m 32s\tremaining: 6m 53s\n",
      "800:\tlearn: 0.1163097\ttotal: 27m 35s\tremaining: 6m 51s\n",
      "801:\tlearn: 0.1163084\ttotal: 27m 37s\tremaining: 6m 49s\n",
      "802:\tlearn: 0.1163049\ttotal: 27m 39s\tremaining: 6m 47s\n",
      "803:\tlearn: 0.1163049\ttotal: 27m 41s\tremaining: 6m 45s\n",
      "804:\tlearn: 0.1163004\ttotal: 27m 43s\tremaining: 6m 42s\n",
      "805:\tlearn: 0.1162997\ttotal: 27m 46s\tremaining: 6m 41s\n",
      "806:\tlearn: 0.1162999\ttotal: 27m 48s\tremaining: 6m 38s\n",
      "807:\tlearn: 0.1162985\ttotal: 27m 50s\tremaining: 6m 37s\n",
      "808:\tlearn: 0.1162966\ttotal: 27m 53s\tremaining: 6m 35s\n",
      "809:\tlearn: 0.1162955\ttotal: 27m 55s\tremaining: 6m 33s\n",
      "810:\tlearn: 0.1162944\ttotal: 27m 58s\tremaining: 6m 31s\n",
      "811:\tlearn: 0.1162934\ttotal: 28m\tremaining: 6m 29s\n",
      "812:\tlearn: 0.1162919\ttotal: 28m 2s\tremaining: 6m 27s\n",
      "813:\tlearn: 0.1162929\ttotal: 28m 5s\tremaining: 6m 25s\n",
      "814:\tlearn: 0.1162924\ttotal: 28m 7s\tremaining: 6m 23s\n",
      "815:\tlearn: 0.1162899\ttotal: 28m 9s\tremaining: 6m 21s\n",
      "816:\tlearn: 0.1162892\ttotal: 28m 11s\tremaining: 6m 18s\n",
      "817:\tlearn: 0.1162887\ttotal: 28m 13s\tremaining: 6m 16s\n",
      "818:\tlearn: 0.1162873\ttotal: 28m 15s\tremaining: 6m 14s\n",
      "819:\tlearn: 0.1162864\ttotal: 28m 17s\tremaining: 6m 12s\n",
      "820:\tlearn: 0.1162857\ttotal: 28m 20s\tremaining: 6m 10s\n",
      "821:\tlearn: 0.1162850\ttotal: 28m 22s\tremaining: 6m 8s\n",
      "822:\tlearn: 0.1162836\ttotal: 28m 24s\tremaining: 6m 6s\n",
      "823:\tlearn: 0.1162831\ttotal: 28m 26s\tremaining: 6m 4s\n",
      "824:\tlearn: 0.1162815\ttotal: 28m 28s\tremaining: 6m 2s\n",
      "825:\tlearn: 0.1162808\ttotal: 28m 30s\tremaining: 6m\n",
      "826:\tlearn: 0.1162790\ttotal: 28m 33s\tremaining: 5m 58s\n",
      "827:\tlearn: 0.1162785\ttotal: 28m 35s\tremaining: 5m 56s\n",
      "828:\tlearn: 0.1162747\ttotal: 28m 38s\tremaining: 5m 54s\n",
      "829:\tlearn: 0.1162711\ttotal: 28m 40s\tremaining: 5m 52s\n",
      "830:\tlearn: 0.1162699\ttotal: 28m 42s\tremaining: 5m 50s\n",
      "831:\tlearn: 0.1162687\ttotal: 28m 45s\tremaining: 5m 48s\n",
      "832:\tlearn: 0.1162686\ttotal: 28m 49s\tremaining: 5m 46s\n",
      "833:\tlearn: 0.1162649\ttotal: 28m 52s\tremaining: 5m 44s\n",
      "834:\tlearn: 0.1162641\ttotal: 28m 54s\tremaining: 5m 42s\n",
      "835:\tlearn: 0.1162636\ttotal: 28m 56s\tremaining: 5m 40s\n",
      "836:\tlearn: 0.1162629\ttotal: 29m 3s\tremaining: 5m 39s\n",
      "837:\tlearn: 0.1162584\ttotal: 29m 5s\tremaining: 5m 37s\n",
      "838:\tlearn: 0.1162570\ttotal: 29m 7s\tremaining: 5m 35s\n",
      "839:\tlearn: 0.1162553\ttotal: 29m 10s\tremaining: 5m 33s\n",
      "840:\tlearn: 0.1162548\ttotal: 29m 12s\tremaining: 5m 31s\n",
      "841:\tlearn: 0.1162543\ttotal: 29m 14s\tremaining: 5m 29s\n",
      "842:\tlearn: 0.1162527\ttotal: 29m 16s\tremaining: 5m 27s\n",
      "843:\tlearn: 0.1162520\ttotal: 29m 18s\tremaining: 5m 25s\n",
      "844:\tlearn: 0.1162518\ttotal: 29m 21s\tremaining: 5m 23s\n",
      "845:\tlearn: 0.1162503\ttotal: 29m 23s\tremaining: 5m 21s\n",
      "846:\tlearn: 0.1162490\ttotal: 29m 25s\tremaining: 5m 18s\n",
      "847:\tlearn: 0.1162471\ttotal: 29m 28s\tremaining: 5m 16s\n",
      "848:\tlearn: 0.1162450\ttotal: 29m 31s\tremaining: 5m 14s\n",
      "849:\tlearn: 0.1162432\ttotal: 29m 33s\tremaining: 5m 12s\n",
      "850:\tlearn: 0.1162409\ttotal: 29m 36s\tremaining: 5m 10s\n",
      "851:\tlearn: 0.1162407\ttotal: 29m 38s\tremaining: 5m 9s\n",
      "852:\tlearn: 0.1162387\ttotal: 29m 41s\tremaining: 5m 7s\n",
      "853:\tlearn: 0.1162372\ttotal: 29m 44s\tremaining: 5m 4s\n",
      "854:\tlearn: 0.1162354\ttotal: 29m 46s\tremaining: 5m 3s\n",
      "855:\tlearn: 0.1162348\ttotal: 29m 49s\tremaining: 5m 1s\n",
      "856:\tlearn: 0.1162331\ttotal: 29m 51s\tremaining: 4m 58s\n",
      "857:\tlearn: 0.1162327\ttotal: 29m 53s\tremaining: 4m 56s\n",
      "858:\tlearn: 0.1162308\ttotal: 29m 55s\tremaining: 4m 54s\n",
      "859:\tlearn: 0.1162291\ttotal: 29m 58s\tremaining: 4m 52s\n",
      "860:\tlearn: 0.1162275\ttotal: 30m\tremaining: 4m 50s\n",
      "861:\tlearn: 0.1162272\ttotal: 30m 2s\tremaining: 4m 48s\n",
      "862:\tlearn: 0.1162265\ttotal: 30m 4s\tremaining: 4m 46s\n",
      "863:\tlearn: 0.1162256\ttotal: 30m 6s\tremaining: 4m 44s\n",
      "864:\tlearn: 0.1162246\ttotal: 30m 8s\tremaining: 4m 42s\n",
      "865:\tlearn: 0.1162230\ttotal: 30m 11s\tremaining: 4m 40s\n",
      "866:\tlearn: 0.1162225\ttotal: 30m 13s\tremaining: 4m 38s\n",
      "867:\tlearn: 0.1162210\ttotal: 30m 15s\tremaining: 4m 36s\n",
      "868:\tlearn: 0.1162198\ttotal: 30m 17s\tremaining: 4m 33s\n",
      "869:\tlearn: 0.1162175\ttotal: 30m 19s\tremaining: 4m 31s\n",
      "870:\tlearn: 0.1162148\ttotal: 30m 21s\tremaining: 4m 29s\n",
      "871:\tlearn: 0.1162145\ttotal: 30m 23s\tremaining: 4m 27s\n",
      "872:\tlearn: 0.1162143\ttotal: 30m 25s\tremaining: 4m 25s\n",
      "873:\tlearn: 0.1162132\ttotal: 30m 27s\tremaining: 4m 23s\n",
      "874:\tlearn: 0.1162102\ttotal: 30m 29s\tremaining: 4m 21s\n",
      "875:\tlearn: 0.1162091\ttotal: 30m 31s\tremaining: 4m 19s\n",
      "876:\tlearn: 0.1162088\ttotal: 30m 33s\tremaining: 4m 17s\n",
      "877:\tlearn: 0.1162084\ttotal: 30m 36s\tremaining: 4m 15s\n",
      "878:\tlearn: 0.1162075\ttotal: 30m 38s\tremaining: 4m 13s\n",
      "879:\tlearn: 0.1162060\ttotal: 30m 40s\tremaining: 4m 10s\n",
      "880:\tlearn: 0.1162031\ttotal: 30m 42s\tremaining: 4m 8s\n",
      "881:\tlearn: 0.1162023\ttotal: 30m 44s\tremaining: 4m 6s\n",
      "882:\tlearn: 0.1162016\ttotal: 30m 47s\tremaining: 4m 4s\n",
      "883:\tlearn: 0.1162014\ttotal: 30m 49s\tremaining: 4m 2s\n",
      "884:\tlearn: 0.1162009\ttotal: 30m 51s\tremaining: 4m\n",
      "885:\tlearn: 0.1162006\ttotal: 30m 53s\tremaining: 3m 58s\n",
      "886:\tlearn: 0.1161996\ttotal: 30m 55s\tremaining: 3m 56s\n",
      "887:\tlearn: 0.1161970\ttotal: 30m 57s\tremaining: 3m 54s\n",
      "888:\tlearn: 0.1161963\ttotal: 31m\tremaining: 3m 52s\n",
      "889:\tlearn: 0.1161948\ttotal: 31m 2s\tremaining: 3m 50s\n",
      "890:\tlearn: 0.1161942\ttotal: 31m 4s\tremaining: 3m 48s\n",
      "891:\tlearn: 0.1161930\ttotal: 31m 6s\tremaining: 3m 46s\n",
      "892:\tlearn: 0.1161926\ttotal: 31m 8s\tremaining: 3m 43s\n",
      "893:\tlearn: 0.1161921\ttotal: 31m 11s\tremaining: 3m 41s\n",
      "894:\tlearn: 0.1161918\ttotal: 31m 13s\tremaining: 3m 39s\n",
      "895:\tlearn: 0.1161884\ttotal: 31m 15s\tremaining: 3m 37s\n",
      "896:\tlearn: 0.1161867\ttotal: 31m 17s\tremaining: 3m 35s\n",
      "897:\tlearn: 0.1161863\ttotal: 31m 19s\tremaining: 3m 33s\n",
      "898:\tlearn: 0.1161838\ttotal: 31m 21s\tremaining: 3m 31s\n",
      "899:\tlearn: 0.1161814\ttotal: 31m 22s\tremaining: 3m 29s\n",
      "900:\tlearn: 0.1161790\ttotal: 31m 25s\tremaining: 3m 27s\n",
      "901:\tlearn: 0.1161788\ttotal: 31m 27s\tremaining: 3m 25s\n",
      "902:\tlearn: 0.1161780\ttotal: 31m 29s\tremaining: 3m 22s\n",
      "903:\tlearn: 0.1161775\ttotal: 31m 31s\tremaining: 3m 20s\n",
      "904:\tlearn: 0.1161772\ttotal: 31m 33s\tremaining: 3m 18s\n",
      "905:\tlearn: 0.1161749\ttotal: 31m 35s\tremaining: 3m 16s\n",
      "906:\tlearn: 0.1161735\ttotal: 31m 37s\tremaining: 3m 14s\n",
      "907:\tlearn: 0.1161721\ttotal: 31m 40s\tremaining: 3m 12s\n",
      "908:\tlearn: 0.1161699\ttotal: 31m 42s\tremaining: 3m 10s\n",
      "909:\tlearn: 0.1161679\ttotal: 31m 44s\tremaining: 3m 8s\n",
      "910:\tlearn: 0.1161676\ttotal: 31m 46s\tremaining: 3m 6s\n",
      "911:\tlearn: 0.1161666\ttotal: 31m 48s\tremaining: 3m 4s\n",
      "912:\tlearn: 0.1161659\ttotal: 31m 51s\tremaining: 3m 2s\n",
      "913:\tlearn: 0.1161643\ttotal: 31m 53s\tremaining: 3m\n",
      "914:\tlearn: 0.1161634\ttotal: 31m 55s\tremaining: 2m 57s\n",
      "915:\tlearn: 0.1161625\ttotal: 31m 57s\tremaining: 2m 55s\n",
      "916:\tlearn: 0.1161601\ttotal: 31m 59s\tremaining: 2m 53s\n",
      "917:\tlearn: 0.1161569\ttotal: 32m 1s\tremaining: 2m 51s\n",
      "918:\tlearn: 0.1161538\ttotal: 32m 4s\tremaining: 2m 49s\n",
      "919:\tlearn: 0.1161506\ttotal: 32m 6s\tremaining: 2m 47s\n",
      "920:\tlearn: 0.1161502\ttotal: 32m 8s\tremaining: 2m 45s\n",
      "921:\tlearn: 0.1161492\ttotal: 32m 10s\tremaining: 2m 43s\n",
      "922:\tlearn: 0.1161477\ttotal: 32m 12s\tremaining: 2m 41s\n",
      "923:\tlearn: 0.1161462\ttotal: 32m 14s\tremaining: 2m 39s\n",
      "924:\tlearn: 0.1161446\ttotal: 32m 16s\tremaining: 2m 36s\n",
      "925:\tlearn: 0.1161441\ttotal: 32m 18s\tremaining: 2m 34s\n",
      "926:\tlearn: 0.1161426\ttotal: 32m 20s\tremaining: 2m 32s\n",
      "927:\tlearn: 0.1161423\ttotal: 32m 22s\tremaining: 2m 30s\n",
      "928:\tlearn: 0.1161409\ttotal: 32m 24s\tremaining: 2m 28s\n",
      "929:\tlearn: 0.1161395\ttotal: 32m 26s\tremaining: 2m 26s\n",
      "930:\tlearn: 0.1161379\ttotal: 32m 28s\tremaining: 2m 24s\n",
      "931:\tlearn: 0.1161372\ttotal: 32m 30s\tremaining: 2m 22s\n",
      "932:\tlearn: 0.1161364\ttotal: 32m 32s\tremaining: 2m 20s\n",
      "933:\tlearn: 0.1161341\ttotal: 32m 34s\tremaining: 2m 18s\n",
      "934:\tlearn: 0.1161312\ttotal: 32m 37s\tremaining: 2m 16s\n",
      "935:\tlearn: 0.1161294\ttotal: 32m 39s\tremaining: 2m 13s\n",
      "936:\tlearn: 0.1161281\ttotal: 32m 41s\tremaining: 2m 11s\n",
      "937:\tlearn: 0.1161259\ttotal: 32m 43s\tremaining: 2m 9s\n",
      "938:\tlearn: 0.1161238\ttotal: 32m 45s\tremaining: 2m 7s\n",
      "939:\tlearn: 0.1161232\ttotal: 32m 48s\tremaining: 2m 5s\n",
      "940:\tlearn: 0.1161237\ttotal: 32m 50s\tremaining: 2m 3s\n",
      "941:\tlearn: 0.1161224\ttotal: 32m 52s\tremaining: 2m 1s\n",
      "942:\tlearn: 0.1161217\ttotal: 32m 54s\tremaining: 1m 59s\n",
      "943:\tlearn: 0.1161197\ttotal: 32m 56s\tremaining: 1m 57s\n",
      "944:\tlearn: 0.1161192\ttotal: 32m 58s\tremaining: 1m 55s\n",
      "945:\tlearn: 0.1161187\ttotal: 33m 1s\tremaining: 1m 53s\n",
      "946:\tlearn: 0.1161163\ttotal: 33m 3s\tremaining: 1m 50s\n",
      "947:\tlearn: 0.1161153\ttotal: 33m 5s\tremaining: 1m 48s\n",
      "948:\tlearn: 0.1161135\ttotal: 33m 7s\tremaining: 1m 46s\n",
      "949:\tlearn: 0.1161128\ttotal: 33m 9s\tremaining: 1m 44s\n",
      "950:\tlearn: 0.1161122\ttotal: 33m 11s\tremaining: 1m 42s\n",
      "951:\tlearn: 0.1161104\ttotal: 33m 13s\tremaining: 1m 40s\n",
      "952:\tlearn: 0.1161096\ttotal: 33m 16s\tremaining: 1m 38s\n",
      "953:\tlearn: 0.1161093\ttotal: 33m 18s\tremaining: 1m 36s\n",
      "954:\tlearn: 0.1161071\ttotal: 33m 20s\tremaining: 1m 34s\n",
      "955:\tlearn: 0.1161064\ttotal: 33m 23s\tremaining: 1m 32s\n",
      "956:\tlearn: 0.1161059\ttotal: 33m 25s\tremaining: 1m 30s\n",
      "957:\tlearn: 0.1161056\ttotal: 33m 27s\tremaining: 1m 28s\n",
      "958:\tlearn: 0.1161016\ttotal: 33m 29s\tremaining: 1m 25s\n",
      "959:\tlearn: 0.1161019\ttotal: 33m 32s\tremaining: 1m 23s\n",
      "960:\tlearn: 0.1161018\ttotal: 33m 34s\tremaining: 1m 21s\n",
      "961:\tlearn: 0.1161001\ttotal: 33m 36s\tremaining: 1m 19s\n",
      "962:\tlearn: 0.1160999\ttotal: 33m 38s\tremaining: 1m 17s\n",
      "963:\tlearn: 0.1160961\ttotal: 33m 40s\tremaining: 1m 15s\n",
      "964:\tlearn: 0.1160961\ttotal: 33m 42s\tremaining: 1m 13s\n",
      "965:\tlearn: 0.1160962\ttotal: 33m 45s\tremaining: 1m 11s\n",
      "966:\tlearn: 0.1160954\ttotal: 33m 47s\tremaining: 1m 9s\n",
      "967:\tlearn: 0.1160947\ttotal: 33m 49s\tremaining: 1m 7s\n",
      "968:\tlearn: 0.1160941\ttotal: 33m 51s\tremaining: 1m 5s\n",
      "969:\tlearn: 0.1160935\ttotal: 33m 54s\tremaining: 1m 2s\n",
      "970:\tlearn: 0.1160928\ttotal: 33m 56s\tremaining: 1m\n",
      "971:\tlearn: 0.1160920\ttotal: 33m 58s\tremaining: 58.7s\n",
      "972:\tlearn: 0.1160913\ttotal: 34m\tremaining: 56.6s\n",
      "973:\tlearn: 0.1160907\ttotal: 34m 2s\tremaining: 54.5s\n",
      "974:\tlearn: 0.1160898\ttotal: 34m 4s\tremaining: 52.4s\n",
      "975:\tlearn: 0.1160889\ttotal: 34m 7s\tremaining: 50.3s\n",
      "976:\tlearn: 0.1160846\ttotal: 34m 9s\tremaining: 48.2s\n",
      "977:\tlearn: 0.1160835\ttotal: 34m 11s\tremaining: 46.2s\n",
      "978:\tlearn: 0.1160842\ttotal: 34m 13s\tremaining: 44.1s\n",
      "979:\tlearn: 0.1160832\ttotal: 34m 15s\tremaining: 42s\n",
      "980:\tlearn: 0.1160819\ttotal: 34m 18s\tremaining: 39.9s\n",
      "981:\tlearn: 0.1160809\ttotal: 34m 20s\tremaining: 37.8s\n",
      "982:\tlearn: 0.1160798\ttotal: 34m 22s\tremaining: 35.7s\n",
      "983:\tlearn: 0.1160787\ttotal: 34m 24s\tremaining: 33.6s\n",
      "984:\tlearn: 0.1160785\ttotal: 34m 26s\tremaining: 31.5s\n",
      "985:\tlearn: 0.1160778\ttotal: 34m 29s\tremaining: 29.4s\n",
      "986:\tlearn: 0.1160753\ttotal: 34m 31s\tremaining: 27.3s\n",
      "987:\tlearn: 0.1160741\ttotal: 34m 33s\tremaining: 25.2s\n",
      "988:\tlearn: 0.1160718\ttotal: 34m 36s\tremaining: 23.1s\n",
      "989:\tlearn: 0.1160712\ttotal: 34m 38s\tremaining: 21s\n",
      "990:\tlearn: 0.1160689\ttotal: 34m 40s\tremaining: 18.9s\n",
      "991:\tlearn: 0.1160681\ttotal: 34m 43s\tremaining: 16.8s\n",
      "992:\tlearn: 0.1160670\ttotal: 34m 45s\tremaining: 14.7s\n",
      "993:\tlearn: 0.1160652\ttotal: 34m 47s\tremaining: 12.6s\n",
      "994:\tlearn: 0.1160628\ttotal: 34m 50s\tremaining: 10.5s\n",
      "995:\tlearn: 0.1160621\ttotal: 34m 52s\tremaining: 8.4s\n",
      "996:\tlearn: 0.1160612\ttotal: 34m 55s\tremaining: 6.31s\n",
      "997:\tlearn: 0.1160604\ttotal: 34m 58s\tremaining: 4.21s\n",
      "998:\tlearn: 0.1160597\ttotal: 35m\tremaining: 2.1s\n",
      "999:\tlearn: 0.1160591\ttotal: 35m 3s\tremaining: 0us\n"
     ]
    },
    {
     "data": {
      "text/plain": [
       "<catboost.core.CatBoostRegressor at 0x28fd93855e0>"
      ]
     },
     "execution_count": 56,
     "metadata": {},
     "output_type": "execute_result"
    }
   ],
   "source": [
    "cbc.fit(train_x, train_y)"
   ]
  },
  {
   "cell_type": "code",
   "execution_count": 57,
   "id": "7c3e4d83",
   "metadata": {},
   "outputs": [
    {
     "data": {
      "text/plain": [
       "0.7201499076832651"
      ]
     },
     "execution_count": 57,
     "metadata": {},
     "output_type": "execute_result"
    }
   ],
   "source": [
    "cbc.score(train_x, train_y)"
   ]
  },
  {
   "cell_type": "code",
   "execution_count": 58,
   "id": "820f8f01",
   "metadata": {},
   "outputs": [],
   "source": [
    "pred_cbc = cbc.predict(test_x)"
   ]
  },
  {
   "cell_type": "code",
   "execution_count": 59,
   "id": "8a795df2",
   "metadata": {},
   "outputs": [
    {
     "data": {
      "text/plain": [
       "1.2883675939649635"
      ]
     },
     "execution_count": 59,
     "metadata": {},
     "output_type": "execute_result"
    }
   ],
   "source": [
    "mean_absolute_error(test_y, pred_cbc)"
   ]
  },
  {
   "cell_type": "code",
   "execution_count": 60,
   "id": "cf823b36",
   "metadata": {},
   "outputs": [
    {
     "data": {
      "text/plain": [
       "0.2131019316843711"
      ]
     },
     "execution_count": 60,
     "metadata": {},
     "output_type": "execute_result"
    }
   ],
   "source": [
    "mape_cbc = mean_absolute_percentage_error(test_y, pred_cbc)\n",
    "mape_cbc"
   ]
  },
  {
   "cell_type": "code",
   "execution_count": null,
   "id": "73a1ffb8",
   "metadata": {},
   "outputs": [],
   "source": []
  },
  {
   "cell_type": "markdown",
   "id": "6e748b2a",
   "metadata": {},
   "source": [
    "### Comparing MAPE values we got"
   ]
  },
  {
   "cell_type": "code",
   "execution_count": 61,
   "id": "2901e2e5",
   "metadata": {},
   "outputs": [],
   "source": [
    "data = pd.DataFrame({'Algorithm':['linear Regression', 'Decision Tree', 'Deciosion Tree hypertuned', 'Cataboost Regressor' ], 'MAPE':[mape_lr, mape_dt, mape_dt1, mape_cbc]})"
   ]
  },
  {
   "cell_type": "code",
   "execution_count": 62,
   "id": "970e8482",
   "metadata": {},
   "outputs": [
    {
     "data": {
      "text/html": [
       "<div>\n",
       "<style scoped>\n",
       "    .dataframe tbody tr th:only-of-type {\n",
       "        vertical-align: middle;\n",
       "    }\n",
       "\n",
       "    .dataframe tbody tr th {\n",
       "        vertical-align: top;\n",
       "    }\n",
       "\n",
       "    .dataframe thead th {\n",
       "        text-align: right;\n",
       "    }\n",
       "</style>\n",
       "<table border=\"1\" class=\"dataframe\">\n",
       "  <thead>\n",
       "    <tr style=\"text-align: right;\">\n",
       "      <th></th>\n",
       "      <th>Algorithm</th>\n",
       "      <th>MAPE</th>\n",
       "    </tr>\n",
       "  </thead>\n",
       "  <tbody>\n",
       "    <tr>\n",
       "      <th>0</th>\n",
       "      <td>linear Regression</td>\n",
       "      <td>0.394844</td>\n",
       "    </tr>\n",
       "    <tr>\n",
       "      <th>1</th>\n",
       "      <td>Decision Tree</td>\n",
       "      <td>0.253924</td>\n",
       "    </tr>\n",
       "    <tr>\n",
       "      <th>2</th>\n",
       "      <td>Deciosion Tree hypertuned</td>\n",
       "      <td>0.260014</td>\n",
       "    </tr>\n",
       "    <tr>\n",
       "      <th>3</th>\n",
       "      <td>Cataboost Regressor</td>\n",
       "      <td>0.213102</td>\n",
       "    </tr>\n",
       "  </tbody>\n",
       "</table>\n",
       "</div>"
      ],
      "text/plain": [
       "                   Algorithm      MAPE\n",
       "0          linear Regression  0.394844\n",
       "1              Decision Tree  0.253924\n",
       "2  Deciosion Tree hypertuned  0.260014\n",
       "3        Cataboost Regressor  0.213102"
      ]
     },
     "execution_count": 62,
     "metadata": {},
     "output_type": "execute_result"
    }
   ],
   "source": [
    "data"
   ]
  },
  {
   "cell_type": "code",
   "execution_count": null,
   "id": "fd662bc7",
   "metadata": {},
   "outputs": [],
   "source": []
  },
  {
   "cell_type": "code",
   "execution_count": null,
   "id": "e2edb33c",
   "metadata": {},
   "outputs": [],
   "source": []
  }
 ],
 "metadata": {
  "kernelspec": {
   "display_name": "Python 3 (ipykernel)",
   "language": "python",
   "name": "python3"
  },
  "language_info": {
   "codemirror_mode": {
    "name": "ipython",
    "version": 3
   },
   "file_extension": ".py",
   "mimetype": "text/x-python",
   "name": "python",
   "nbconvert_exporter": "python",
   "pygments_lexer": "ipython3",
   "version": "3.9.7"
  }
 },
 "nbformat": 4,
 "nbformat_minor": 5
}
